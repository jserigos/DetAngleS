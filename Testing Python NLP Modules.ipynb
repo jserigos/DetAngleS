{
 "cells": [
  {
   "cell_type": "markdown",
   "metadata": {},
   "source": [
    "## Spacy"
   ]
  },
  {
   "cell_type": "markdown",
   "metadata": {},
   "source": [
    "Open the Gold Stanard NACC file to find how labeled anglicisms are POS tagged"
   ]
  },
  {
   "cell_type": "code",
   "execution_count": 54,
   "metadata": {},
   "outputs": [],
   "source": [
    "import pandas as pd\n",
    "import spacy\n",
    "from collections import Counter\n",
    "nlp_sp = spacy.load('es', parse=True, tag=True, entity=True)"
   ]
  },
  {
   "cell_type": "code",
   "execution_count": 33,
   "metadata": {},
   "outputs": [],
   "source": [
    "NACC_df = pd.read_csv('Data/NACC-annotated.tsv',delimiter='\\t',encoding='utf-8', header=0)\n",
    "NACC_text = \" \".join(NACC_df[\"Token\"].tolist())\n",
    "NACC_spacy = nlp_sp(NACC_text)"
   ]
  },
  {
   "cell_type": "markdown",
   "metadata": {},
   "source": [
    "Add new columns to the pandas dataframe for POS, NE, and Lemma"
   ]
  },
  {
   "cell_type": "code",
   "execution_count": 42,
   "metadata": {},
   "outputs": [],
   "source": [
    "NACC_df[\"POS\"] = [token.pos_ for token in NACC_spacy]\n",
    "NACC_df[\"NE\"] = [token.ent_iob_ for token in NACC_spacy]\n",
    "NACC_df[\"Lemma\"] = [token.lemma_ for token in NACC_spacy]"
   ]
  },
  {
   "cell_type": "markdown",
   "metadata": {},
   "source": [
    "Filter the dataset to only analysis those tokens labeled as anglicisms"
   ]
  },
  {
   "cell_type": "code",
   "execution_count": 58,
   "metadata": {},
   "outputs": [
    {
     "name": "stdout",
     "output_type": "stream",
     "text": [
      "NOUN 62\n",
      "VERB 8\n",
      "PROPN 7\n",
      "ADJ 4\n",
      "O 68\n",
      "I 7\n",
      "B 6\n"
     ]
    }
   ],
   "source": [
    "is_anglicism =  NACC_df['Anglicism']==\"yes\"\n",
    "for value, count in Counter(NACC_df[is_anglicism][\"POS\"]).most_common():\n",
    "    print(value, count)\n",
    "for value, count in Counter(NACC_df[is_anglicism][\"NE\"]).most_common():\n",
    "    print(value, count)"
   ]
  },
  {
   "cell_type": "markdown",
   "metadata": {},
   "source": [
    "All anglicisms in the Goldstandard are labeled as {'NOUN': 62, 'VERB': 8, 'PROPN': 7, 'ADJ': 4}, which are the open class pos tags. This is in keeping with the borrowablity scale so filtering out all other POS tags appears to be both theortically and practically sound. \n",
    "The majority of anglicisms are labeled as not named entities but a few are (I & B)"
   ]
  },
  {
   "cell_type": "code",
   "execution_count": 72,
   "metadata": {},
   "outputs": [
    {
     "name": "stdout",
     "output_type": "stream",
     "text": [
      "40.41\n"
     ]
    }
   ],
   "source": [
    "is_openclass =  NACC_df['POS'].isin([\"NOUN\", \"VERB\", \"PROPN\", \"ADJ\"])\n",
    "print(round(100*len(NACC_df[is_openclass]) / len(NACC_df), 2))"
   ]
  },
  {
   "cell_type": "markdown",
   "metadata": {},
   "source": [
    "Around 40% of the data is in open class POS tag (\"NOUN\", \"VERB\", \"PROPN\", \"ADJ\") so by filtering out all other data (closed class), we will eliminate the need to test 60% of the data."
   ]
  },
  {
   "cell_type": "code",
   "execution_count": 73,
   "metadata": {},
   "outputs": [],
   "source": [
    "export_csv = NACC_df.to_csv (r'Data/NACC-Spacy-annotated.csv', index = None, header=True) "
   ]
  }
 ],
 "metadata": {
  "kernelspec": {
   "display_name": "Python 3",
   "language": "python",
   "name": "python3"
  },
  "language_info": {
   "codemirror_mode": {
    "name": "ipython",
    "version": 3
   },
   "file_extension": ".py",
   "mimetype": "text/x-python",
   "name": "python",
   "nbconvert_exporter": "python",
   "pygments_lexer": "ipython3",
   "version": "3.6.5"
  }
 },
 "nbformat": 4,
 "nbformat_minor": 2
}
