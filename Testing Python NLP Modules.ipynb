{
 "cells": [
  {
   "cell_type": "markdown",
   "metadata": {},
   "source": [
    "## Spacy"
   ]
  },
  {
   "cell_type": "markdown",
   "metadata": {},
   "source": [
    "Open the Gold Stanard NACC file to find how labeled anglicisms are POS & NE tagged"
   ]
  },
  {
   "cell_type": "code",
   "execution_count": 16,
   "metadata": {},
   "outputs": [
    {
     "name": "stdout",
     "output_type": "stream",
     "text": [
      "Spanish: 37940 English 57852\n"
     ]
    }
   ],
   "source": [
    "import pandas as pd\n",
    "import spacy\n",
    "import re\n",
    "from collections import Counter\n",
    "nlp_sp = spacy.load('es', parse=True, tag=True, entity=True)\n",
    "nlp_en = spacy.load('en', parse=True, tag=True, entity=True)\n",
    "print(\"Spanish:\", len(nlp_sp.vocab), \"English\", len(nlp_en.vocab))"
   ]
  },
  {
   "cell_type": "markdown",
   "metadata": {},
   "source": [
    "Create a function to combine punctuation with the preceding word"
   ]
  },
  {
   "cell_type": "code",
   "execution_count": 11,
   "metadata": {},
   "outputs": [],
   "source": [
    "def join_punctuation(seq, characters=r'.,:;?!)/'):\n",
    "    characters = set(characters)\n",
    "    seq = iter(seq)\n",
    "    current = next(seq)\n",
    "\n",
    "    for nxt in seq:\n",
    "        if nxt in characters:\n",
    "            current += nxt\n",
    "        else:\n",
    "            yield current\n",
    "            current = nxt\n",
    "\n",
    "    yield current"
   ]
  },
  {
   "cell_type": "code",
   "execution_count": 20,
   "metadata": {},
   "outputs": [],
   "source": [
    "NACC_df = pd.read_csv('Data/NACC-GoldStandard.tsv',delimiter='\\t',encoding='utf-8', header=0)\n",
    "NACC_tokens = NACC_df[\"Token\"].tolist()\n",
    "NACC_punct_joined = join_punctuation(NACC_tokens)\n",
    "NACC_text = \" \".join(NACC_punct_joined)\n",
    "NACC_text = re.sub(r\"\\( \", r\"(\", NACC_text)\n",
    "NACC_spacy = nlp_sp(NACC_text)"
   ]
  },
  {
   "cell_type": "code",
   "execution_count": 21,
   "metadata": {},
   "outputs": [],
   "source": [
    "with open('Data/NACC-GoldStandard-Text.txt', \"w\") as output:\n",
    "    output.write(NACC_text)"
   ]
  },
  {
   "cell_type": "markdown",
   "metadata": {},
   "source": [
    "Add new columns to the pandas dataframe for POS, NE, and Lemma"
   ]
  },
  {
   "cell_type": "code",
   "execution_count": null,
   "metadata": {},
   "outputs": [],
   "source": [
    "NACC_df[\"POS\"] = [token.pos_ for token in NACC_spacy]\n",
    "NACC_df[\"NE\"] = [token.ent_iob_ for token in NACC_spacy]\n",
    "NACC_df[\"Lemma\"] = [token.lemma_ for token in NACC_spacy]"
   ]
  },
  {
   "cell_type": "markdown",
   "metadata": {},
   "source": [
    "Filter the dataset to only analysis those tokens labeled as anglicisms"
   ]
  },
  {
   "cell_type": "code",
   "execution_count": null,
   "metadata": {},
   "outputs": [],
   "source": [
    "is_anglicism =  NACC_df['Anglicism']==\"yes\"\n",
    "for value, count in Counter(NACC_df[is_anglicism][\"POS\"]).most_common():\n",
    "    print(value, count)\n"
   ]
  },
  {
   "cell_type": "code",
   "execution_count": null,
   "metadata": {},
   "outputs": [],
   "source": [
    "is_openclass =  NACC_df['POS'].isin([\"NOUN\", \"VERB\", \"PROPN\", \"ADJ\"])\n",
    "print(round(100*len(NACC_df[is_openclass]) / len(NACC_df), 2))"
   ]
  },
  {
   "cell_type": "markdown",
   "metadata": {},
   "source": [
    "All anglicisms in the Goldstandard are labeled as {'NOUN': 62, 'VERB': 8, 'PROPN': 7, 'ADJ': 4}, which are the open class pos tags. This is in keeping with the borrowablity scale so filtering out all other POS tags appears to be both theortically and practically sound. \n",
    "The majority of anglicisms are labeled as not named entities but a few are unexpected one (i.e. not capitalized) so a simple capitalization test maybe better. I think anglicisms that are towards the beginning of the sentence get confused for NE because they are OOV."
   ]
  },
  {
   "cell_type": "code",
   "execution_count": null,
   "metadata": {},
   "outputs": [],
   "source": [
    "for value, count in Counter(NACC_df[is_anglicism][\"NE\"]).most_common():\n",
    "    print(value, count)\n",
    "a = NACC_df[is_anglicism]\n",
    "is_NE =  a['NE'].isin([\"I\", \"B\"])\n",
    "print(a[is_NE])"
   ]
  },
  {
   "cell_type": "markdown",
   "metadata": {},
   "source": [
    "Around 40% of the data is in open class POS tag (\"NOUN\", \"VERB\", \"PROPN\", \"ADJ\") so by filtering out all other data (closed class), we will eliminate the need to test 60% of the data."
   ]
  },
  {
   "cell_type": "code",
   "execution_count": null,
   "metadata": {},
   "outputs": [],
   "source": [
    "export_csv = NACC_df.to_csv (r'Data/NACC-Spacy-annotated.csv', index = None, header=True) "
   ]
  },
  {
   "cell_type": "code",
   "execution_count": null,
   "metadata": {},
   "outputs": [],
   "source": [
    "len(nlp_sp.vocab)"
   ]
  },
  {
   "cell_type": "code",
   "execution_count": 22,
   "metadata": {},
   "outputs": [
    {
     "name": "stdout",
     "output_type": "stream",
     "text": [
      "136\n",
      "eligible\n",
      " supervisor\n",
      " informal\n",
      " open\n",
      " acre\n",
      " sheriff\n",
      " far\n",
      " mutual\n",
      " stand\n",
      " tour\n",
      " gentleman\n",
      " echo\n",
      " spot\n",
      " flash\n",
      " display\n",
      " grand\n",
      " cute\n",
      " lay\n",
      " input\n",
      " film\n",
      " look\n",
      " to\n",
      " crucial\n",
      " lady\n",
      " western\n",
      " lunch\n",
      " green\n",
      " detective\n",
      " data\n",
      " home\n",
      " virtual\n",
      " golf\n",
      " agenda\n",
      " sexy\n",
      " chance\n",
      " slip\n",
      " bacteria\n",
      " marine\n",
      " single\n",
      " audio\n",
      " ten\n",
      " son\n",
      " tape\n",
      " campus\n",
      " ratio\n",
      " bit\n",
      " temple\n",
      " guitar\n",
      " suite\n",
      " mentor\n",
      " show\n",
      " car\n",
      " instructor\n",
      " uh\n",
      " logical\n",
      " light\n",
      " miss\n",
      " plus\n",
      " do\n",
      " corps\n",
      " fan\n",
      " escape\n",
      " ad\n",
      " exclusive\n",
      " cap\n",
      " jazz\n",
      " fame\n",
      " put\n",
      " controversial\n",
      " dancing\n",
      " mere\n",
      " set\n",
      " render\n",
      " gap\n",
      " video\n",
      " rain\n",
      " ton\n",
      " digital\n",
      " cave\n",
      " sauce\n",
      " sponsor\n",
      " pope\n",
      " rock\n",
      " box\n",
      " speech\n",
      " neutral\n",
      " naval\n",
      " dance\n",
      " body\n",
      " ring\n",
      " sport\n",
      " pop\n",
      " senior\n",
      " relax\n",
      " chef\n",
      " in\n",
      " be\n",
      " her\n",
      " trace\n",
      " rape\n",
      " force\n",
      " web\n",
      " nuclear\n",
      " prior\n",
      " tumor\n",
      " as\n",
      " lobby\n",
      " short\n",
      " jet\n",
      " vegetable\n",
      " diagnosis\n",
      " radar\n",
      " cross\n",
      " casino\n",
      " software\n",
      " invite\n",
      " banana\n",
      " diabetes\n",
      " pizza\n",
      " junior\n",
      " virus\n",
      " folk\n",
      " kit\n",
      " panel\n",
      " funeral\n",
      " chin\n",
      " debut\n",
      " gang\n",
      " calendar\n",
      " monitor\n",
      " deal\n",
      " man\n",
      " standing\n",
      " ruin\n",
      " romance\n",
      " lord\n",
      " grant\n",
      " cope\n",
      " cancel\n",
      " memorial\n",
      " crack\n",
      " output\n",
      " casual\n",
      " AM\n",
      " clip\n",
      " tell\n",
      " hockey\n",
      " peer\n",
      " bus\n",
      " spray\n",
      " pose\n",
      " racial\n",
      " marketing\n",
      " robot\n",
      " so\n",
      " parental\n",
      " pro\n",
      " pin\n",
      " grill\n",
      " fuel\n",
      " festival\n",
      " chip\n",
      " stock\n",
      " test\n",
      " mineral\n",
      " pipe\n",
      " quite\n",
      " tile\n",
      " tea\n",
      " trust\n",
      " trial\n",
      " rally\n",
      " lid\n",
      " rifle\n",
      " barn\n",
      " novel\n",
      " living\n",
      " basis\n",
      " tribal\n",
      " federal\n",
      " argue\n",
      " gospel\n",
      " ego\n",
      " he\n",
      " top\n",
      " true\n",
      " gay\n",
      " boom\n",
      " hardware\n",
      " can\n",
      " hall\n",
      " hi\n",
      " mama\n",
      " variable\n",
      " run\n",
      " gray\n",
      "\n"
     ]
    }
   ],
   "source": [
    "spn_5k_file = \"/Users/jacquelineserigos/Google Drive/X-Reference/My_Data/Dictionaries/Originals/HFSpn.txt\"\n",
    "eng_5k_file = \"/Users/jacquelineserigos/Google Drive/X-Reference/My_Data/Dictionaries/Originals/HFEng.txt\"\n",
    "spnDict_file = \"/Users/jacquelineserigos/Google Drive/X-Reference/My_Data/Dictionaries/Originals/lemario-20101017.txt\"\n",
    "\n",
    "spn5k = set(open(spn_5k_file, encoding = 'cp1252').readlines())\n",
    "eng5k = set(open(eng_5k_file).readlines())\n",
    "spnDict = set(open(spnDict_file).readlines())\n",
    "\n",
    "overlap = spn5k & eng5k\n",
    "print(len(overlap))\n",
    "#print(*overlap)\n",
    "Eng = eng5k - overlap\n",
    "#print(*Eng)\n",
    "a = spnDict & Eng\n",
    "print(*a)\n",
    "\n",
    "\n"
   ]
  },
  {
   "cell_type": "code",
   "execution_count": 8,
   "metadata": {},
   "outputs": [
    {
     "name": "stdout",
     "output_type": "stream",
     "text": [
      "['a\\n', 'abajo\\n', 'abandonado\\n', 'abandonar\\n', 'abandono\\n', 'abanico\\n', 'abarcar\\n', 'abeja\\n', 'abiertamente\\n', 'abierto\\n', 'abismo\\n', 'abogado\\n', 'abordar\\n', 'abrazar\\n', 'abrazo\\n', 'abrigo\\n', 'abril\\n', 'abrir\\n', 'absolutamente\\n', 'absoluto\\n', 'absorber\\n', 'abstracción\\n', 'abstracto\\n', 'absurdo\\n', 'absurdo\\n', 'abuela\\n', 'abuelo\\n', 'abundancia\\n', 'abundante\\n', 'abundar\\n', 'aburrido\\n', 'aburrimiento\\n', 'aburrir\\n', 'abusar\\n', 'abuso\\n', 'acá\\n', 'acabar\\n', 'academia\\n', 'académico\\n', 'acariciar\\n', 'acarrear\\n', 'acaso\\n', 'acatar\\n', 'acceder\\n', 'accesible\\n', 'acceso\\n', 'accidente\\n', 'acción\\n', 'aceite\\n', 'acelerado\\n', 'acelerar\\n', 'acento\\n', 'acentuar\\n', 'aceptable\\n', 'aceptación\\n', 'aceptar\\n', 'acera\\n', 'acerca\\n', 'acercamiento\\n', 'acercar\\n', 'acero\\n', 'acertado\\n', 'acertar\\n', 'ácido\\n', 'acierto\\n', 'aclarar\\n', 'acoger\\n', 'acomodado\\n', 'acomodar\\n', 'acompañar\\n', 'aconsejar\\n', 'acontecer\\n', 'acontecimiento\\n', 'acordar\\n', 'acorde\\n', 'acostar\\n', 'acostumbrado\\n', 'acostumbrar\\n', 'acta\\n', 'actitud\\n', 'actividad\\n', 'activo\\n', 'acto\\n', 'actor\\n', 'actriz\\n', 'actuación\\n', 'actual\\n', 'actualidad\\n', 'actualmente\\n', 'actuar\\n', 'acudir\\n', 'acuerdo\\n', 'acumulación\\n', 'acumular\\n', 'acusación\\n', 'acusar\\n', 'adaptación\\n', 'adaptar\\n', 'adecuado\\n', 'adelantar\\n', 'adelante\\n', 'adelanto\\n', 'además\\n', 'adentrar\\n', 'adentro\\n', 'adherir\\n', 'adhesión\\n', 'adicional\\n', 'adiós\\n', 'adivinar\\n', 'adjetivo\\n', 'administración\\n', 'administrador\\n', 'administrar\\n', 'administrativo\\n', 'admirable\\n', 'admiración\\n', 'admirador\\n', 'admirar\\n', 'admitir\\n', 'adolescencia\\n', 'adolescente\\n', 'adolescente\\n', 'adonde\\n', 'adónde\\n', 'adoptar\\n', 'adorar\\n', 'adornar\\n', 'adorno\\n', 'adquirir\\n', 'adquisición\\n', 'adulto\\n', 'adulto\\n', 'adversario\\n', 'advertencia\\n', 'advertir\\n', 'aéreo\\n', 'aeropuerto\\n', 'afán\\n', 'afectar\\n', 'afecto\\n', 'aferrar\\n', 'afición\\n', 'aficionado\\n', 'afín\\n', 'afirmación\\n', 'afirmar\\n', 'aflojar\\n', 'afortunadamente\\n', 'afortunado\\n', 'africano\\n', 'afrontar\\n', 'afuera\\n', 'afueras\\n', 'agarrar\\n', 'agencia\\n', 'agente\\n', 'ágil\\n', 'agitación\\n', 'agitado\\n', 'agitar\\n', 'agonía\\n', 'agosto\\n', 'agotado\\n', 'agotar\\n', 'agradable\\n', 'agradar\\n', 'agradecer\\n', 'agradecido\\n', 'agradecimiento\\n', 'agrario\\n', 'agravar\\n', 'agregar\\n', 'agresión\\n', 'agresividad\\n', 'agresivo\\n', 'agrícola\\n', 'agricultor\\n', 'agricultura\\n', 'agrupar\\n', 'agua\\n', 'aguantar\\n', 'aguardar\\n', 'agudo\\n', 'aguja\\n', 'agujero\\n', 'ah\\n', 'ahí\\n', 'ahogar\\n', 'ahora\\n', 'ahorrar\\n', 'ahorro\\n', 'aire\\n', 'aislado\\n', 'aislamiento\\n', 'aislar\\n', 'ajeno\\n', 'ajustar\\n', 'ajuste\\n', 'ala\\n', 'alambre\\n', 'alargar\\n', 'alarma\\n', 'alarmante\\n', 'alarmar\\n', 'albergar\\n', 'alcalde\\n', 'alcance\\n', 'alcanzar\\n', 'alcohol\\n', 'aldea\\n', 'alegar\\n', 'alegrar\\n', 'alegre\\n', 'alegría\\n', 'alejado\\n', 'alejar\\n', 'alemán\\n', 'alentar\\n', 'alerta\\n', 'alertar\\n', 'alfombra\\n', 'algo\\n', 'algodón\\n', 'alguien\\n', 'alguno\\n', 'aliado\\n', 'alianza\\n', 'aliento\\n', 'alimentación\\n', 'alimentar\\n', 'alimento\\n', 'aliviar\\n', 'alivio\\n', 'allá\\n', 'allí\\n', 'alma\\n', 'almacén\\n', 'almohada\\n', 'almorzar\\n', 'almuerzo\\n', 'alojar\\n', 'alquilar\\n', 'alquiler\\n', 'alrededor\\n', 'alrededor\\n', 'altamente\\n', 'altar\\n', 'alteración\\n', 'alterar\\n', 'alternar\\n', 'alternativa\\n', 'alternativo\\n', 'altísimo\\n', 'alto\\n', 'altura\\n', 'aludir\\n', 'alumbrar\\n', 'alumno\\n', 'alusión\\n', 'alzar\\n', 'ama\\n', 'amable\\n', 'amanecer\\n', 'amanecer\\n', 'amante\\n', 'amar\\n', 'amargo\\n', 'amargura\\n', 'amarillo\\n', 'ambición\\n', 'ambicioso\\n', 'ambiente\\n', 'ambiguo\\n', 'ámbito\\n', 'ambos\\n', 'ambulante\\n', 'amenaza\\n', 'amenazado\\n', 'amenazar\\n', 'americano\\n', 'amiga\\n', 'amigo\\n', 'amistad\\n', 'amistoso\\n', 'amo\\n', 'amor\\n', 'amoroso\\n', 'amparo\\n', 'ampliación\\n', 'ampliamente\\n', 'ampliar\\n', 'amplio\\n', 'amplitud\\n', 'añadir\\n', 'análisis\\n', 'analizar\\n', 'ancho\\n', 'ancho\\n', 'anciano\\n', 'andaluz\\n', 'andar\\n', 'andar\\n', 'anécdota\\n', 'ángel\\n', 'ángulo\\n', 'angustia\\n', 'angustiado\\n', 'angustioso\\n', 'anhelo\\n', 'anillo\\n', 'animado\\n', 'animal\\n', 'animar\\n', 'ánimo\\n', 'aniversario\\n', 'año\\n', 'anoche\\n', 'anónimo\\n', 'anotar\\n', 'ansia\\n', 'ansiedad\\n', 'ansioso\\n', 'antaño\\n', 'ante\\n', 'antecedente\\n', 'antemano\\n', 'antena\\n', 'antepasado\\n', 'anterior\\n', 'anteriormente\\n', 'antes\\n', 'anticipar\\n', 'antigüedad\\n', 'antiguo\\n', 'anual\\n', 'anular\\n', 'anunciar\\n', 'anuncio\\n', 'apagado\\n', 'apagar\\n', 'aparato\\n', 'aparecer\\n', 'aparentar\\n', 'aparente\\n', 'aparentemente\\n', 'aparición\\n', 'apariencia\\n', 'apartar\\n', 'aparte\\n', 'apasionado\\n', 'apelar\\n', 'apellido\\n', 'apenas\\n', 'apertura\\n', 'apetito\\n', 'aplastado\\n', 'aplastar\\n', 'aplaudir\\n', 'aplauso\\n', 'aplicación\\n', 'aplicado\\n', 'aplicar\\n', 'apoderar\\n', 'aportar\\n', 'aporte\\n', 'apostar\\n', 'apoyar\\n', 'apoyo\\n', 'apreciación\\n', 'apreciar\\n', 'aprender\\n', 'aprendizaje\\n', 'apresurar\\n', 'apretado\\n', 'apretar\\n', 'aprobación\\n', 'aprobar\\n', 'apropiado\\n', 'aprovechar\\n', 'aproximación\\n', 'aproximadamente\\n', 'aproximar\\n', 'apto\\n', 'apuesta\\n', 'apuntar\\n', 'apunte\\n', 'apurar\\n', 'apuro\\n', 'aquel\\n', 'aquél\\n', 'aquello\\n', 'aquí\\n', 'árabe\\n', 'araña\\n', 'arbitrario\\n', 'árbol\\n', 'archivo\\n', 'arco\\n', 'arder\\n', 'ardiente\\n', 'área\\n', 'arena\\n', 'argentino\\n', 'argumentar\\n', 'argumento\\n', 'árido\\n', 'arma\\n', 'armado\\n', 'armar\\n', 'armonía\\n', 'aroma\\n', 'arquitecto\\n', 'arquitectura\\n', 'arrancar\\n', 'arranque\\n', 'arrasar\\n', 'arrastrar\\n', 'arrebatar\\n', 'arreglar\\n', 'arreglo\\n', 'arrepentir\\n', 'arriba\\n', 'arriesgar\\n', 'arrojar\\n', 'arroyo\\n', 'arroz\\n', 'arte\\n', 'artefacto\\n', 'articular\\n', 'artículo\\n', 'artificial\\n', 'artista\\n', 'artístico\\n', 'asaltar\\n', 'asalto\\n', 'asamblea\\n', 'ascender\\n', 'ascenso\\n', 'ascensor\\n', 'asco\\n', 'asegurar\\n', 'asentar\\n', 'asentir\\n', 'asesinar\\n', 'asesinato\\n', 'asesino\\n', 'asesor\\n', 'así\\n', 'asiento\\n', 'asignar\\n', 'asilo\\n', 'asimilar\\n', 'asimismo\\n', 'asistencia\\n', 'asistente\\n', 'asistir\\n', 'asociación\\n', 'asociar\\n', 'asomar\\n', 'asombrado\\n', 'asombrar\\n', 'asombro\\n', 'asombroso\\n', 'aspecto\\n', 'áspero\\n', 'aspiración\\n', 'aspirar\\n', 'astro\\n', 'asumir\\n', 'asunto\\n', 'asustado\\n', 'asustar\\n', 'atacar\\n', 'ataque\\n', 'atar\\n', 'atardecer\\n', 'atención\\n', 'atender\\n', 'atener\\n', 'atentado\\n', 'atento\\n', 'atmósfera\\n', 'atracción\\n', 'atractivo\\n', 'atractivo\\n', 'atraer\\n', 'atrapado\\n', 'atrapar\\n', 'atrás\\n', 'atrasado\\n', 'atravesar\\n', 'atrever\\n', 'atribuir\\n', 'atributo\\n', 'atroz\\n', 'audacia\\n', 'audaz\\n', 'audiencia\\n', 'aula\\n', 'aumentar\\n', 'aumento\\n', 'aun\\n', 'aún\\n', 'aunque\\n', 'ausencia\\n', 'ausente\\n', 'auténtico\\n', 'auto\\n', 'autobús\\n', 'automáticamente\\n', 'automático\\n', 'automóvil\\n', 'autonomía\\n', 'autónomo\\n', 'autopista\\n', 'autor\\n', 'autoridad\\n', 'autoritario\\n', 'autorización\\n', 'autorizado\\n', 'autorizar\\n', 'auxiliar\\n', 'auxilio\\n', 'avance\\n', 'avanzado\\n', 'avanzar\\n', 'ave\\n', 'avenida\\n', 'aventura\\n', 'aventurar\\n', 'averiguar\\n', 'avión\\n', 'avisar\\n', 'aviso\\n', 'ay\\n', 'ayer\\n', 'ayuda\\n', 'ayudante\\n', 'ayudar\\n', 'azar\\n', 'azúcar\\n', 'azul\\n', 'bachillerato\\n', 'bahía\\n', 'bailar\\n', 'bailarín\\n', 'baile\\n', 'bajar\\n', 'bajo\\n', 'bajo\\n', 'bala\\n', 'balance\\n', 'balanza\\n', 'balcón\\n', 'bañar\\n', 'bancario\\n', 'banco\\n', 'banda\\n', 'bandeja\\n', 'bandera\\n', 'bando\\n', 'baño\\n', 'banquete\\n', 'bar\\n', 'barato\\n', 'barba\\n', 'barbaridad\\n', 'bárbaro\\n', 'barco\\n', 'barra\\n', 'barrer\\n', 'barrera\\n', 'barrio\\n', 'barro\\n', 'basar\\n', 'base\\n', 'básicamente\\n', 'básico\\n', 'bastante\\n', 'bastar\\n', 'bastón\\n', 'basura\\n', 'batalla\\n', 'batería\\n', 'batir\\n', 'bautizar\\n', 'bebé\\n', 'beber\\n', 'bebida\\n', 'beca\\n', 'bélico\\n', 'belleza\\n', 'bello\\n', 'bendito\\n', 'beneficiar\\n', 'beneficio\\n', 'besar\\n', 'beso\\n', 'bestia\\n', 'bíblico\\n', 'biblioteca\\n', 'bicho\\n', 'bicicleta\\n', 'bien\\n', 'bien\\n', 'bienestar\\n', 'bigote\\n', 'billete\\n', 'biografía\\n', 'biológico\\n', 'blanco\\n', 'blando\\n', 'bloque\\n', 'boca\\n', 'boda\\n', 'bodega\\n', 'bola\\n', 'bolsa\\n', 'bolsillo\\n', 'bomba\\n', 'bondad\\n', 'bonito\\n', 'borde\\n', 'bordear\\n', 'bordo\\n', 'borrar\\n', 'bosque\\n', 'bota\\n', 'bote\\n', 'botella\\n', 'botón\\n', 'brasileño\\n', 'bravo\\n', 'brazo\\n', 'breve\\n', 'brevemente\\n', 'brillante\\n', 'brillar\\n', 'brillo\\n', 'brindar\\n', 'británico\\n', 'broma\\n', 'bronce\\n', 'brotar\\n', 'bruja\\n', 'bruscamente\\n', 'brusco\\n', 'brutal\\n', 'bruto\\n', 'bueno\\n', 'bueno\\n', 'buey\\n', 'bulto\\n', 'buque\\n', 'burla\\n', 'burlar\\n', 'burro\\n', 'busca\\n', 'buscar\\n', 'búsqueda\\n', 'caballería\\n', 'caballero\\n', 'caballo\\n', 'cabecera\\n', 'cabello\\n', 'caber\\n', 'cabeza\\n', 'cabina\\n', 'cable\\n', 'cabo\\n', 'cabra\\n', 'cada\\n', 'cadáver\\n', 'cadena\\n', 'cadera\\n', 'caer\\n', 'café\\n', 'caída\\n', 'caído\\n', 'caja\\n', 'cajón\\n', 'cal\\n', 'calcular\\n', 'cálculo\\n', 'caldo\\n', 'calendario\\n', 'calentar\\n', 'calidad\\n', 'cálido\\n', 'caliente\\n', 'calificación\\n', 'calificar\\n', 'callado\\n', 'callar\\n', 'calle\\n', 'callejero\\n', 'calma\\n', 'calmar\\n', 'calor\\n', 'calzar\\n', 'cama\\n', 'cámara\\n', 'cambiar\\n', 'cambio\\n', 'caminar\\n', 'camino\\n', 'camión\\n', 'camisa\\n', 'camiseta\\n', 'campamento\\n', 'campana\\n', 'campaña\\n', 'campeón\\n', 'campesino\\n', 'campo\\n', 'caña\\n', 'canal\\n', 'cáncer\\n', 'cancha\\n', 'canción\\n', 'candidato\\n', 'cañón\\n', 'cansado\\n', 'cansancio\\n', 'cansar\\n', 'cantante\\n', 'cantar\\n', 'cantidad\\n', 'canto\\n', 'caos\\n', 'capa\\n', 'capacidad\\n', 'capaz\\n', 'capilla\\n', 'capital\\n', 'capitán\\n', 'capítulo\\n', 'capricho\\n', 'caprichoso\\n', 'captar\\n', 'capturar\\n', 'cara\\n', 'carácter\\n', 'característica\\n', 'característico\\n', 'caracterizar\\n', 'caramelo\\n', 'carbón\\n', 'carcajada\\n', 'cárcel\\n', 'carecer\\n', 'carencia\\n', 'carente\\n', 'carga\\n', 'cargar\\n', 'cargo\\n', 'caridad\\n', 'cariño\\n', 'cariñoso\\n', 'carne\\n', 'caro\\n', 'carrera\\n', 'carretera\\n', 'carro\\n', 'carta\\n', 'cartel\\n', 'cartera\\n', 'cartón\\n', 'casa\\n', 'casado\\n', 'casar\\n', 'casco\\n', 'casero\\n', 'casi\\n', 'casita\\n', 'caso\\n', 'castellano\\n', 'castigar\\n', 'castigo\\n', 'castillo\\n', 'casualidad\\n', 'catalán\\n', 'catálogo\\n', 'catástrofe\\n', 'cátedra\\n', 'catedral\\n', 'categoría\\n', 'católico\\n', 'catorce\\n', 'cauce\\n', 'caudal\\n', 'causa\\n', 'causar\\n', 'cautela\\n', 'caza\\n', 'cazador\\n', 'cazar\\n', 'ceder\\n', 'ceja\\n', 'celebración\\n', 'celebrar\\n', 'célebre\\n', 'celeste\\n', 'celo\\n', 'celoso\\n', 'célula\\n', 'cementerio\\n', 'cemento\\n', 'cena\\n', 'cenar\\n', 'ceñir\\n', 'ceniza\\n', 'censura\\n', 'centavo\\n', 'centenar\\n', 'centímetro\\n', 'central\\n', 'central\\n', 'centrar\\n', 'centro\\n', 'cera\\n', 'cerca\\n', 'cercanía\\n', 'cercano\\n', 'cerco\\n', 'cerdo\\n', 'cerebral\\n', 'cerebro\\n', 'ceremonia\\n', 'cero\\n', 'cerrado\\n', 'cerrar\\n', 'cerro\\n', 'certeza\\n', 'cerveza\\n', 'cesar\\n', 'chaqueta\\n', 'charla\\n', 'charlar\\n', 'chica\\n', 'chico\\n', 'chileno\\n', 'chimenea\\n', 'chino\\n', 'chiquillo\\n', 'chispa\\n', 'chiste\\n', 'chocar\\n', 'chocolate\\n', 'choque\\n', 'chorro\\n', 'chupar\\n', 'ciclo\\n', 'ciego\\n', 'cielo\\n', 'ciencia\\n', 'científico\\n', 'científico\\n', 'ciento\\n', 'cierre\\n', 'ciertamente\\n', 'cierto\\n', 'cifra\\n', 'cigarrillo\\n', 'cima\\n', 'cinco\\n', 'cincuenta\\n', 'cine\\n', 'cinta\\n', 'cintura\\n', 'cinturón\\n', 'circo\\n', 'circuito\\n', 'circulación\\n', 'circular\\n', 'circular\\n', 'círculo\\n', 'circunstancia\\n', 'cirujano\\n', 'cita\\n', 'citar\\n', 'ciudad\\n', 'ciudadano\\n', 'ciudadano\\n', 'civil\\n', 'civil\\n', 'civilización\\n', 'civilizado\\n', 'clandestino\\n', 'claramente\\n', 'claridad\\n', 'claro\\n', 'claro\\n', 'clase\\n', 'clásico\\n', 'clasificación\\n', 'clasificar\\n', 'clavar\\n', 'clave\\n', 'clave\\n', 'clavo\\n', 'cliente\\n', 'clientela\\n', 'clima\\n', 'clínica\\n', 'clínico\\n', 'club\\n', 'cobrar\\n', 'cobre\\n', 'coche\\n', 'cocina\\n', 'cocinar\\n', 'cocinero\\n', 'coco\\n', 'código\\n', 'codo\\n', 'coger\\n', 'coherente\\n', 'cohete\\n', 'coincidencia\\n', 'coincidir\\n', 'cola\\n', 'colaboración\\n', 'colaborador\\n', 'colaborar\\n', 'colar\\n', 'colchón\\n', 'colección\\n', 'colectivo\\n', 'colectivo\\n', 'colega\\n', 'colegio\\n', 'cólera\\n', 'colgado\\n', 'colgar\\n', 'colina\\n', 'collar\\n', 'colmo\\n', 'colocar\\n', 'colombiano\\n', 'colonia\\n', 'colonial\\n', 'color\\n', 'colorado\\n', 'columna\\n', 'coma\\n', 'comandante\\n', 'comando\\n', 'combate\\n', 'combatir\\n', 'combinación\\n', 'combinado\\n', 'combinar\\n', 'comedia\\n', 'comedor\\n', 'comentar\\n', 'comentario\\n', 'comenzar\\n', 'comer\\n', 'comercial\\n', 'comerciante\\n', 'comercio\\n', 'cometa\\n', 'cometer\\n', 'cómico\\n', 'comida\\n', 'comienzo\\n', 'comisario\\n', 'comisión\\n', 'como\\n', 'cómo\\n', 'comodidad\\n', 'cómodo\\n', 'compacto\\n', 'compañera\\n', 'compañero\\n', 'compañía\\n', 'comparable\\n', 'comparación\\n', 'comparar\\n', 'compartir\\n', 'compás\\n', 'compatriota\\n', 'compensación\\n', 'compensar\\n', 'competencia\\n', 'competir\\n', 'complacer\\n', 'complejidad\\n', 'complejo\\n', 'complejo\\n', 'complementar\\n', 'complementario\\n', 'complemento\\n', 'completamente\\n', 'completar\\n', 'completo\\n', 'complicación\\n', 'complicado\\n', 'complicar\\n', 'cómplice\\n', 'complicidad\\n', 'componente\\n', 'componer\\n', 'comportamiento\\n', 'comportar\\n', 'composición\\n', 'compra\\n', 'comprador\\n', 'comprar\\n', 'comprender\\n', 'compresible\\n', 'comprensión\\n', 'comprensivo\\n', 'comprobar\\n', 'comprometer\\n', 'comprometido\\n', 'compromiso\\n', 'compuesto\\n', 'computadora\\n', 'común\\n', 'comunicación\\n', 'comunicar\\n', 'comunidad\\n', 'comunión\\n', 'comunismo\\n', 'comunista\\n', 'comunitario\\n', 'con\\n', 'concebir\\n', 'conceder\\n', 'concentración\\n', 'concentrar\\n', 'concepción\\n', 'concepto\\n', 'concesión\\n', 'conciencia\\n', 'concierto\\n', 'concluir\\n', 'conclusión\\n', 'concretamente\\n', 'concretar\\n', 'concreto\\n', 'concurrencia\\n', 'concurrir\\n', 'concurso\\n', 'condena\\n', 'condenar\\n', 'condición\\n', 'condicionado\\n', 'condicionar\\n', 'conducir\\n', 'conducta\\n', 'conductor\\n', 'conectar\\n', 'conejo\\n', 'conexión\\n', 'conferencia\\n', 'conferir\\n', 'confesar\\n', 'confesión\\n', 'confianza\\n', 'confiar\\n', 'configurar\\n', 'confirmar\\n', 'conflicto\\n', 'conformar\\n', 'conforme\\n', 'confundido\\n', 'confundir\\n', 'confusión\\n', 'confuso\\n', 'congelado\\n', 'congreso\\n', 'conjunto\\n', 'conmigo\\n', 'conmover\\n', 'conocedor\\n', 'conocer\\n', 'conocido\\n', 'conocimiento\\n', 'conquista\\n', 'conquistar\\n', 'consagrado\\n', 'consagrar\\n', 'consciente\\n', 'consecuencia\\n', 'conseguir\\n', 'consejero\\n', 'consejo\\n', 'consentir\\n', 'conservación\\n', 'conservador\\n', 'conservar\\n', 'considerable\\n', 'consideración\\n', 'considerar\\n', 'consigna\\n', 'consiguiente\\n', 'consistencia\\n', 'consistir\\n', 'consolar\\n', 'consolidar\\n', 'conspiración\\n', 'constancia\\n', 'constante\\n', 'constantemente\\n', 'constar\\n', 'constatar\\n', 'constitución\\n', 'constitucional\\n', 'constituir\\n', 'construcción\\n', 'constructivo\\n', 'construir\\n', 'consuelo\\n', 'consulta\\n', 'consultar\\n', 'consumar\\n', 'consumir\\n', 'consumo\\n', 'contacto\\n', 'contagiar\\n', 'contar\\n', 'contemplar\\n', 'contemporáneo\\n', 'contener\\n', 'contenido\\n', 'contento\\n', 'contestación\\n', 'contestar\\n', 'contexto\\n', 'contienda\\n', 'contigo\\n', 'continente\\n', 'continuación\\n', 'continuamente\\n', 'continuar\\n', 'continuidad\\n', 'continuo\\n', 'contorno\\n', 'contra\\n', 'contradecir\\n', 'contradicción\\n', 'contradictorio\\n', 'contraer\\n', 'contrario\\n', 'contrastar\\n', 'contraste\\n', 'contratar\\n', 'contrato\\n', 'contribución\\n', 'contribuir\\n', 'control\\n', 'controlar\\n', 'contundente\\n', 'convencer\\n', 'convencido\\n', 'convencimiento\\n', 'convención\\n', 'convencional\\n', 'conveniencia\\n', 'conveniente\\n', 'convenir\\n', 'convento\\n', 'conversación\\n', 'conversar\\n', 'convertir\\n', 'convicción\\n', 'convincente\\n', 'convivencia\\n', 'convivir\\n', 'convocar\\n', 'cooperación\\n', 'copa\\n', 'copia\\n', 'copiar\\n', 'coraje\\n', 'corazón\\n', 'corbata\\n', 'cordial\\n', 'cordillera\\n', 'cordón\\n', 'coro\\n', 'corona\\n', 'coronar\\n', 'coronel\\n', 'corporal\\n', 'corral\\n', 'corrección\\n', 'correctamente\\n', 'correcto\\n', 'corredor\\n', 'corregir\\n', 'correo\\n', 'correr\\n', 'correspondencia\\n', 'corresponder\\n', 'correspondiente\\n', 'corriente\\n', 'corriente\\n', 'corrupción\\n', 'cortar\\n', 'corte\\n', 'cortesía\\n', 'corteza\\n', 'cortina\\n', 'corto\\n', 'cosa\\n', 'cosecha\\n', 'coser\\n', 'costa\\n', 'costado\\n', 'costar\\n', 'costo\\n', 'costoso\\n', 'costumbre\\n', 'cotidiano\\n', 'cráneo\\n', 'creación\\n', 'creador\\n', 'crear\\n', 'creativo\\n', 'crecer\\n', 'creciente\\n', 'crecimiento\\n', 'crédito\\n', 'creencia\\n', 'creer\\n', 'crema\\n', 'cría\\n', 'criar\\n', 'criatura\\n', 'crimen\\n', 'criminal\\n', 'criminal\\n', 'crisis\\n', 'cristal\\n', 'cristiano\\n', 'criterio\\n', 'crítica\\n', 'criticar\\n', 'crítico\\n', 'crítico\\n', 'crónica\\n', 'crónico\\n', 'cruce\\n', 'crudo\\n', 'cruel\\n', 'crueldad\\n', 'cruz\\n', 'cruzar\\n', 'cuaderno\\n', 'cuadra\\n', 'cuadrado\\n', 'cuadro\\n', 'cual\\n', 'cuál\\n', 'cualidad\\n', 'cualquier\\n', 'cuando\\n', 'cuando\\n', 'cuándo\\n', 'cuanto\\n', 'cuánto\\n', 'cuarenta\\n', 'cuartel\\n', 'cuarto\\n', 'cuarto\\n', 'cuatro\\n', 'cubano\\n', 'cubierta\\n', 'cubierto\\n', 'cubrir\\n', 'cuchillo\\n', 'cuello\\n', 'cuenca\\n', 'cuenta\\n', 'cuento\\n', 'cuerda\\n', 'cuerno\\n', 'cuero\\n', 'cuerpo\\n', 'cuestión\\n', 'cuestionar\\n', 'cueva\\n', 'cuidado\\n', 'cuidadosamente\\n', 'cuidadoso\\n', 'cuidar\\n', 'culminar\\n', 'culpa\\n', 'culpable\\n', 'cultivar\\n', 'cultivo\\n', 'culto\\n', 'culto\\n', 'cultura\\n', 'cultural\\n', 'cumbre\\n', 'cumpleaños\\n', 'cumplimiento\\n', 'cumplir\\n', 'cuna\\n', 'cuota\\n', 'cúpula\\n', 'cura\\n', 'curar\\n', 'curiosamente\\n', 'curiosidad\\n', 'curioso\\n', 'curso\\n', 'curva\\n', 'cuyo\\n', 'dado\\n', 'dama\\n', 'dañar\\n', 'daño\\n', 'danza\\n', 'dar\\n', 'dato\\n', 'de\\n', 'debajo\\n', 'debate\\n', 'debatir\\n', 'deber\\n', 'deber\\n', 'debidamente\\n', 'debido\\n', 'débil\\n', 'debilidad\\n', 'debilitar\\n', 'década\\n', 'decadencia\\n', 'decaer\\n', 'decena\\n', 'decente\\n', 'decepción\\n', 'decididamente\\n', 'decidido\\n', 'decidir\\n', 'décimo\\n', 'decir\\n', 'decisión\\n', 'decisivo\\n', 'declaración\\n', 'declarar\\n', 'decoración\\n', 'decreto\\n', 'dedicación\\n', 'dedicar\\n', 'dedo\\n', 'deducir\\n', 'defecto\\n', 'defender\\n', 'defensa\\n', 'defensivo\\n', 'defensor\\n', 'definición\\n', 'definido\\n', 'definir\\n', 'definitivamente\\n', 'definitivo\\n', 'dejar\\n', 'delante\\n', 'delgado\\n', 'delicadeza\\n', 'delicado\\n', 'delicioso\\n', 'delincuente\\n', 'delirio\\n', 'delito\\n', 'demanda\\n', 'demandar\\n', 'demás\\n', 'demasiado\\n', 'democracia\\n', 'democrático\\n', 'demonio\\n', 'demorar\\n', 'demostración\\n', 'demostrar\\n', 'denominación\\n', 'denominar\\n', 'densidad\\n', 'denso\\n', 'dentro\\n', 'denuncia\\n', 'denunciar\\n', 'departamento\\n', 'dependencia\\n', 'depender\\n', 'deporte\\n', 'deportivo\\n', 'depositar\\n', 'depósito\\n', 'depresión\\n', 'derecha\\n', 'derecho\\n', 'derecho\\n', 'derivar\\n', 'derramar\\n', 'derribar\\n', 'derrota\\n', 'derrotar\\n', 'derrumbar\\n', 'desacuerdo\\n', 'desafiar\\n', 'desafío\\n', 'desagradable\\n', 'desaparecer\\n', 'desaparecido\\n', 'desaparición\\n', 'desarrollado\\n', 'desarrollar\\n', 'desarrollo\\n', 'desastre\\n', 'desatar\\n', 'desayunar\\n', 'desayuno\\n', 'desbordar\\n', 'descalzo\\n', 'descansar\\n', 'descanso\\n', 'descarga\\n', 'descargar\\n', 'descartar\\n', 'descender\\n', 'descendiente\\n', 'descenso\\n', 'descifrar\\n', 'descomponer\\n', 'desconcertado\\n', 'desconcierto\\n', 'desconfianza\\n', 'desconocer\\n', 'desconocido\\n', 'describir\\n', 'descripción\\n', 'descubrimiento\\n', 'descubrir\\n', 'descuidar\\n', 'descuido\\n', 'desde\\n', 'deseable\\n', 'desear\\n', 'desechar\\n', 'desembocar\\n', 'desempeñar\\n', 'desencadenar\\n', 'desenlace\\n', 'desenvolver\\n', 'deseo\\n', 'desequilibrio\\n', 'desesperación\\n', 'desesperado\\n', 'desesperar\\n', 'desfilar\\n', 'desfile\\n', 'desgracia\\n', 'desgraciadamente\\n', 'deshacer\\n', 'desierto\\n', 'desierto\\n', 'designar\\n', 'desigual\\n', 'desilusión\\n', 'deslizar\\n', 'desmentir\\n', 'desnudo\\n', 'desorden\\n', 'desordenado\\n', 'despacho\\n', 'despacio\\n', 'despedida\\n', 'despedir\\n', 'despejar\\n', 'desperdicio\\n', 'despertar\\n', 'despierto\\n', 'desplazamiento\\n', 'desplazar\\n', 'desplegar\\n', 'despliegue\\n', 'despojar\\n', 'despreciar\\n', 'desprecio\\n', 'desprender\\n', 'después\\n', 'destacado\\n', 'destacar\\n', 'destinar\\n', 'destino\\n', 'destreza\\n', 'destrozar\\n', 'destrucción\\n', 'destruido\\n', 'destruir\\n', 'desviar\\n', 'detallado\\n', 'detalle\\n', 'detectar\\n', 'detención\\n', 'detener\\n', 'deteriorar\\n', 'deterioro\\n', 'determinación\\n', 'determinado\\n', 'determinar\\n', 'detrás\\n', 'deuda\\n', 'devoción\\n', 'devolver\\n', 'devorar\\n', 'día\\n', 'diablo\\n', 'diagnóstico\\n', 'dialogar\\n', 'diálogo\\n', 'diamante\\n', 'diariamente\\n', 'diario\\n', 'diario\\n', 'dibujar\\n', 'dibujo\\n', 'diccionario\\n', 'dicha\\n', 'dicho\\n', 'dicho\\n', 'dichoso\\n', 'diciembre\\n', 'dictador\\n', 'dictadura\\n', 'dictar\\n', 'dieciocho\\n', 'dieciséis\\n', 'diecisiete\\n', 'diente\\n', 'dieta\\n', 'diez\\n', 'diferencia\\n', 'diferenciar\\n', 'diferente\\n', 'difícil\\n', 'difícilmente\\n', 'dificultad\\n', 'difundir\\n', 'difusión\\n', 'dignidad\\n', 'digno\\n', 'diligencia\\n', 'diluir\\n', 'dimensión\\n', 'diminuto\\n', 'dinámica\\n', 'dinámico\\n', 'dinero\\n', 'dios\\n', 'diplomático\\n', 'diplomático\\n', 'diputado\\n', 'dirección\\n', 'directamente\\n', 'directo\\n', 'director\\n', 'dirigente\\n', 'dirigir\\n', 'disciplina\\n', 'discípulo\\n', 'disco\\n', 'discreto\\n', 'disculpa\\n', 'disculpar\\n', 'discurrir\\n', 'discurso\\n', 'discusión\\n', 'discutir\\n', 'diseñar\\n', 'diseño\\n', 'disfrazado\\n', 'disfrazar\\n', 'disfrutar\\n', 'disgusto\\n', 'disimular\\n', 'disipar\\n', 'disminuir\\n', 'disolver\\n', 'disparar\\n', 'disparate\\n', 'disparo\\n', 'dispersar\\n', 'disperso\\n', 'disponer\\n', 'disponible\\n', 'disposición\\n', 'dispuesto\\n', 'disputa\\n', 'disputar\\n', 'distancia\\n', 'distante\\n', 'distinción\\n', 'distinguido\\n', 'distinguir\\n', 'distinto\\n', 'distracción\\n', 'distraer\\n', 'distribución\\n', 'distribuir\\n', 'diversidad\\n', 'diversión\\n', 'diverso\\n', 'divertido\\n', 'divertir\\n', 'dividir\\n', 'divino\\n', 'división\\n', 'divorcio\\n', 'doblar\\n', 'doble\\n', 'doble\\n', 'doce\\n', 'docena\\n', 'doctor\\n', 'doctrina\\n', 'documentación\\n', 'documento\\n', 'dólar\\n', 'doler\\n', 'dolor\\n', 'doloroso\\n', 'doméstico\\n', 'domicilio\\n', 'dominante\\n', 'dominar\\n', 'domingo\\n', 'dominio\\n', 'don\\n', 'doña\\n', 'donde\\n', 'dónde\\n', 'dorado\\n', 'dormido\\n', 'dormir\\n', 'dormitorio\\n', 'dos\\n', 'doscientos\\n', 'dosis\\n', 'dotado\\n', 'dotar\\n', 'drama\\n', 'dramático\\n', 'droga\\n', 'duda\\n', 'dudar\\n', 'dudoso\\n', 'duelo\\n', 'dueña\\n', 'dueño\\n', 'dulce\\n', 'dulce\\n', 'duración\\n', 'duramente\\n', 'durante\\n', 'durar\\n', 'dureza\\n', 'duro\\n', 'duro\\n', 'echar\\n', 'eclesiástico\\n', 'eco\\n', 'economía\\n', 'económicamente\\n', 'económico\\n', 'economista\\n', 'edad\\n', 'edición\\n', 'edificación\\n', 'edificio\\n', 'editar\\n', 'editor\\n', 'editorial\\n', 'educación\\n', 'educado\\n', 'educar\\n', 'educativo\\n', 'efectivamente\\n', 'efectivo\\n', 'efecto\\n', 'efectuar\\n', 'eficacia\\n', 'eficaz\\n', 'eficiencia\\n', 'eficiente\\n', 'efímero\\n', 'egoísmo\\n', 'egoísta\\n', 'eh\\n', 'eje\\n', 'ejecución\\n', 'ejecutar\\n', 'ejecutivo\\n', 'ejemplar\\n', 'ejemplar\\n', 'ejemplo\\n', 'ejercer\\n', 'ejercicio\\n', 'ejército\\n', 'el\\n', 'él\\n', 'elaboración\\n', 'elaborar\\n', 'elección\\n', 'electoral\\n', 'electricidad\\n', 'eléctrico\\n', 'electrónico\\n', 'elefante\\n', 'elegancia\\n', 'elegante\\n', 'elegir\\n', 'elemental\\n', 'elemento\\n', 'elevación\\n', 'elevado\\n', 'elevar\\n', 'eliminar\\n', 'ella\\n', 'ello\\n', 'elocuente\\n', 'elogio\\n', 'eludir\\n', 'embajada\\n', 'embajador\\n', 'embarazada\\n', 'embarazo\\n', 'embarcar\\n', 'embargo\\n', 'emergencia\\n', 'emerger\\n', 'emigrar\\n', 'emisión\\n', 'emisor\\n', 'emitir\\n', 'emoción\\n', 'emocional\\n', 'emocionar\\n', 'empeñar\\n', 'empeño\\n', 'emperador\\n', 'empezar\\n', 'empleado\\n', 'emplear\\n', 'empleo\\n', 'emprender\\n', 'empresa\\n', 'empresario\\n', 'empujar\\n', 'en\\n', 'enamorado\\n', 'enamorar\\n', 'encabezar\\n', 'encajar\\n', 'encaje\\n', 'encaminar\\n', 'encantado\\n', 'encantador\\n', 'encantar\\n', 'encanto\\n', 'encarar\\n', 'encargado\\n', 'encargar\\n', 'encargo\\n', 'encarnar\\n', 'encender\\n', 'encendido\\n', 'encerrado\\n', 'encerrar\\n', 'encima\\n', 'encomendar\\n', 'encontrar\\n', 'encuentro\\n', 'encuesta\\n', 'endurecer\\n', 'enemigo\\n', 'energía\\n', 'enérgico\\n', 'enero\\n', 'énfasis\\n', 'enfermar\\n', 'enfermedad\\n', 'enfermero\\n', 'enfermo\\n', 'enfocar\\n', 'enfoque\\n', 'enfrentamiento\\n', 'enfrentar\\n', 'enfrente\\n', 'enfriar\\n', 'engañar\\n', 'engaño\\n', 'engendrar\\n', 'engordar\\n', 'enigma\\n', 'enlace\\n', 'enlazar\\n', 'enorme\\n', 'enormemente\\n', 'enredar\\n', 'enriquecer\\n', 'ensayar\\n', 'ensayo\\n', 'enseguida\\n', 'enseñanza\\n', 'enseñar\\n', 'ensuciar\\n', 'entablar\\n', 'ente\\n', 'entender\\n', 'entendido\\n', 'entendimiento\\n', 'enterado\\n', 'enteramente\\n', 'enterar\\n', 'entero\\n', 'enterrado\\n', 'enterrar\\n', 'entidad\\n', 'entierro\\n', 'entonces\\n', 'entorno\\n', 'entrada\\n', 'entrañas\\n', 'entrar\\n', 'entre\\n', 'entrega\\n', 'entregar\\n', 'entrenamiento\\n', 'entrenar\\n', 'entretener\\n', 'entrenamiento\\n', 'entrevista\\n', 'entrevistar\\n', 'entusiasmado\\n', 'entusiasmar\\n', 'entusiasmo\\n', 'entusiasta\\n', 'enumerar\\n', 'envergadura\\n', 'enviar\\n', 'envidia\\n', 'envidiar\\n', 'envolver\\n', 'envuelto\\n', 'episodio\\n', 'época\\n', 'equilibrar\\n', 'equilibrio\\n', 'equipo\\n', 'equivalente\\n', 'equivalente\\n', 'equivaler\\n', 'equivocación\\n', 'equivocado\\n', 'equivocar\\n', 'era\\n', 'erótico\\n', 'error\\n', 'escala\\n', 'escalera\\n', 'escándalo\\n', 'escapar\\n', 'escaparate\\n', 'escasez\\n', 'escaso\\n', 'escena\\n', 'escenario\\n', 'esclavo\\n', 'escoger\\n', 'escolar\\n', 'esconder\\n', 'escondido\\n', 'escribir\\n', 'escrito\\n', 'escritor\\n', 'escritorio\\n', 'escritura\\n', 'escuchar\\n', 'escudo\\n', 'escuela\\n', 'escultura\\n', 'ese\\n', 'ése\\n', 'esencia\\n', 'esencial\\n', 'esencialmente\\n', 'esfera\\n', 'esforzar\\n', 'esfuerzo\\n', 'eso\\n', 'espacial\\n', 'espacio\\n', 'espada\\n', 'espalda\\n', 'español\\n', 'espantar\\n', 'espantoso\\n', 'especial\\n', 'especialidad\\n', 'especialista\\n', 'especializar\\n', 'especialmente\\n', 'especie\\n', 'específicamente\\n', 'específico\\n', 'espectacular\\n', 'espectáculo\\n', 'espectador\\n', 'espectro\\n', 'especulación\\n', 'espejo\\n', 'espera\\n', 'esperanza\\n', 'esperar\\n', 'espeso\\n', 'espina\\n', 'espíritu\\n', 'espiritual\\n', 'espléndido\\n', 'esplendor\\n', 'espontáneamente\\n', 'espontáneo\\n', 'esporádico\\n', 'esposa\\n', 'esposo\\n', 'espuma\\n', 'esqueleto\\n', 'esquema\\n', 'esquina\\n', 'estabilidad\\n', 'estable\\n', 'establecer\\n', 'establecido\\n', 'establecimiento\\n', 'estación\\n', 'estadio\\n', 'estadística\\n', 'estadístico\\n', 'estado\\n', 'estallar\\n', 'estallido\\n', 'estampa\\n', 'estancia\\n', 'estar\\n', 'estatal\\n', 'estático\\n', 'estatua\\n', 'estatura\\n', 'este\\n', 'este\\n', 'éste\\n', 'estéril\\n', 'estética\\n', 'estético\\n', 'estilo\\n', 'estimar\\n', 'estimular\\n', 'estímulo\\n', 'estirar\\n', 'esto\\n', 'estómago\\n', 'estrategia\\n', 'estratégico\\n', 'estrechar\\n', 'estrecho\\n', 'estrella\\n', 'estrenar\\n', 'estrictamente\\n', 'estricto\\n', 'estropear\\n', 'estructura\\n', 'estudiante\\n', 'estudiar\\n', 'estudio\\n', 'estudioso\\n', 'estupendo\\n', 'estupidez\\n', 'estúpido\\n', 'etapa\\n', 'etcétera\\n', 'eternidad\\n', 'eterno\\n', 'ética\\n', 'ético\\n', 'etiqueta\\n', 'euforia\\n', 'europeo\\n', 'evaluar\\n', 'evento\\n', 'evidencia\\n', 'evidente\\n', 'evidentemente\\n', 'evitar\\n', 'evocar\\n', 'evolución\\n', 'evolucionar\\n', 'exactamente\\n', 'exactitud\\n', 'exacto\\n', 'exageración\\n', 'exagerado\\n', 'exagerar\\n', 'examen\\n', 'examinar\\n', 'exceder\\n', 'excelencia\\n', 'excelente\\n', 'excepción\\n', 'excepcional\\n', 'excepto\\n', 'excesivamente\\n', 'excesivo\\n', 'exceso\\n', 'excitar\\n', 'excluir\\n', 'exclusivamente\\n', 'exclusivo\\n', 'excursión\\n', 'excusa\\n', 'exento\\n', 'exhibición\\n', 'exhibir\\n', 'exigencia\\n', 'exigente\\n', 'exigir\\n', 'exilio\\n', 'existencia\\n', 'existente\\n', 'existir\\n', 'éxito\\n', 'exótico\\n', 'expandir\\n', 'expansión\\n', 'expectativa\\n', 'expedición\\n', 'expediente\\n', 'experiencia\\n', 'experimental\\n', 'experimentar\\n', 'experimento\\n', 'experto\\n', 'explicación\\n', 'explicar\\n', 'explícito\\n', 'exploración\\n', 'explorar\\n', 'explosión\\n', 'explotación\\n', 'explotar\\n', 'exponer\\n', 'exportación\\n', 'exposición\\n', 'expresar\\n', 'expresión\\n', 'expresivo\\n', 'expreso\\n', 'expulsar\\n', 'expulsión\\n', 'exquisito\\n', 'extender\\n', 'extensión\\n', 'extenso\\n', 'exterior\\n', 'exterior\\n', 'externo\\n', 'extinción\\n', 'extinguir\\n', 'extra\\n', 'extraer\\n', 'extrañar\\n', 'extranjero\\n', 'extranjero\\n', 'extraño\\n', 'extraordinariamente\\n', 'extraordinario\\n', 'extremadamente\\n', 'extremo\\n', 'extremo\\n', 'fábrica\\n', 'fabricación\\n', 'fabricar\\n', 'fabuloso\\n', 'facción\\n', 'fachada\\n', 'fácil\\n', 'facilidad\\n', 'facilitar\\n', 'fácilmente\\n', 'factor\\n', 'factura\\n', 'facultad\\n', 'faena\\n', 'falda\\n', 'falla\\n', 'fallar\\n', 'fallecer\\n', 'fallo\\n', 'falso\\n', 'falta\\n', 'faltar\\n', 'fama\\n', 'familia\\n', 'familiar\\n', 'familiar\\n', 'famoso\\n', 'fantasía\\n', 'fantasma\\n', 'fantástico\\n', 'farmacia\\n', 'fascinante\\n', 'fascinar\\n', 'fase\\n', 'fatal\\n', 'fatiga\\n', 'favor\\n', 'favorable\\n', 'favorecer\\n', 'favorito\\n', 'fe\\n', 'febrero\\n', 'fecha\\n', 'felicidad\\n', 'felicitar\\n', 'feliz\\n', 'femenino\\n', 'fenómeno\\n', 'feo\\n', 'feria\\n', 'feroz\\n', 'ferrocarril\\n', 'fértil\\n', 'fiar\\n', 'fibra\\n', 'ficción\\n', 'ficha\\n', 'fidelidad\\n', 'fiebre\\n', 'fiel\\n', 'fiera\\n', 'fiesta\\n', 'figura\\n', 'figurar\\n', 'fijar\\n', 'fijo\\n', 'fila\\n', 'filo\\n', 'filosofía\\n', 'filosófico\\n', 'filósofo\\n', 'filtrar\\n', 'fin\\n', 'final\\n', 'final\\n', 'finalidad\\n', 'finalizar\\n', 'finalmente\\n', 'financiar\\n', 'financiero\\n', 'finca\\n', 'fingir\\n', 'fino\\n', 'firma\\n', 'firmar\\n', 'firme\\n', 'firmemente\\n', 'firmeza\\n', 'fiscal\\n', 'fiscal\\n', 'físicamente\\n', 'físico\\n', 'físico\\n', 'flaco\\n', 'flecha\\n', 'flexible\\n', 'flor\\n', 'florecer\\n', 'flotar\\n', 'fluir\\n', 'flujo\\n', 'foco\\n', 'fomentar\\n', 'fondo\\n', 'forma\\n', 'formación\\n', 'formal\\n', 'formar\\n', 'formidable\\n', 'fórmula\\n', 'formular\\n', 'fortalecer\\n', 'fortaleza\\n', 'fortuna\\n', 'forzar\\n', 'fósforo\\n', 'foto\\n', 'fotografía\\n', 'fotográfico\\n', 'fotógrafo\\n', 'fracasar\\n', 'fracaso\\n', 'fracción\\n', 'frágil\\n', 'fragmento\\n', 'francamente\\n', 'francés\\n', 'franco\\n', 'franja\\n', 'frasco\\n', 'frase\\n', 'frecuencia\\n', 'frecuentar\\n', 'frecuente\\n', 'frecuentemente\\n', 'frenar\\n', 'freno\\n', 'frente\\n', 'fresco\\n', 'fresco\\n', 'frialdad\\n', 'frío\\n', 'frío\\n', 'frívolo\\n', 'frontal\\n', 'frontera\\n', 'frustración\\n', 'frustrado\\n', 'fruta\\n', 'fruto\\n', 'fuego\\n', 'fuente\\n', 'fuera\\n', 'fuerte\\n', 'fuertemente\\n', 'fuerza\\n', 'fuga\\n', 'fumar\\n', 'función\\n', 'funcional\\n', 'funcionamiento\\n', 'funcionar\\n', 'funcionario\\n', 'fundación\\n', 'fundador\\n', 'fundamental\\n', 'fundamentalmente\\n', 'fundamento\\n', 'fundar\\n', 'fundir\\n', 'furia\\n', 'furioso\\n', 'fútbol\\n', 'futuro\\n', 'futuro\\n', 'gabinete\\n', 'gala\\n', 'galería\\n', 'gallina\\n', 'gallo\\n', 'gama\\n', 'gana\\n', 'ganado\\n', 'ganador\\n', 'ganancia\\n', 'ganar\\n', 'garantía\\n', 'garantizar\\n', 'garganta\\n', 'garra\\n', 'gas\\n', 'gastar\\n', 'gasto\\n', 'gato\\n', 'generación\\n', 'general\\n', 'general\\n', 'generalizar\\n', 'generalmente\\n', 'generar\\n', 'género\\n', 'generosidad\\n', 'generoso\\n', 'genético\\n', 'genial\\n', 'genio\\n', 'gente\\n', 'geografía\\n', 'geográfico\\n', 'geométrico\\n', 'gestión\\n', 'gesto\\n', 'gigante\\n', 'gigante\\n', 'gigantesco\\n', 'gira\\n', 'girar\\n', 'giro\\n', 'global\\n', 'globo\\n', 'gloria\\n', 'glorioso\\n', 'gobernador\\n', 'gobernante\\n', 'gobernar\\n', 'gobierno\\n', 'golpe\\n', 'golpear\\n', 'goma\\n', 'gordo\\n', 'gota\\n', 'gozar\\n', 'grabación\\n', 'grabar\\n', 'gracia\\n', 'gracioso\\n', 'grado\\n', 'gráfico\\n', 'grande\\n', 'grandeza\\n', 'grandioso\\n', 'grano\\n', 'grasa\\n', 'gratitud\\n', 'grato\\n', 'gratuito\\n', 'grave\\n', 'gravedad\\n', 'griego\\n', 'grieta\\n', 'gris\\n', 'gritar\\n', 'grito\\n', 'grosero\\n', 'grotesco\\n', 'grueso\\n', 'grueso\\n', 'grupo\\n', 'guante\\n', 'guapo\\n', 'guardar\\n', 'guardia\\n', 'guerra\\n', 'guerrero\\n', 'guerrero\\n', 'guía\\n', 'guiar\\n', 'guitarra\\n', 'gusano\\n', 'gustar\\n', 'gusto\\n', 'haber\\n', 'hábil\\n', 'habilidad\\n', 'habitación\\n', 'habitante\\n', 'habitar\\n', 'hábito\\n', 'habitual\\n', 'habitualmente\\n', 'habla\\n', 'hablar\\n', 'hacer\\n', 'hacia\\n', 'hacienda\\n', 'hallar\\n', 'hallazgo\\n', 'hambre\\n', 'harina\\n', 'harto\\n', 'hasta\\n', 'hazaña\\n', 'hecho\\n', 'hectárea\\n', 'helado\\n', 'hembra\\n', 'heredar\\n', 'heredero\\n', 'herencia\\n', 'herida\\n', 'herido\\n', 'herido\\n', 'herir\\n', 'hermana\\n', 'hermano\\n', 'hermoso\\n', 'héroe\\n', 'heroico\\n', 'herramienta\\n', 'hervir\\n', 'hielo\\n', 'hierba\\n', 'hierro\\n', 'hígado\\n', 'higiene\\n', 'hija\\n', 'hijo\\n', 'hilo\\n', 'himno\\n', 'hipótesis\\n', 'hispano\\n', 'historia\\n', 'historiador\\n', 'histórico\\n', 'hogar\\n', 'hoja\\n', 'hola\\n', 'holandés\\n', 'hombre\\n', 'hombro\\n', 'homenaje\\n', 'hondo\\n', 'honesto\\n', 'honor\\n', 'honrado\\n', 'honrar\\n', 'hora\\n', 'horario\\n', 'horizontal\\n', 'horizonte\\n', 'hormiga\\n', 'horno\\n', 'horrible\\n', 'horror\\n', 'hospital\\n', 'hostil\\n', 'hostilidad\\n', 'hotel\\n', 'hoy\\n', 'hueco\\n', 'hueco\\n', 'huelga\\n', 'huella\\n', 'hueso\\n', 'huevo\\n', 'huir\\n', 'humanidad\\n', 'humano\\n', 'humano\\n', 'humedad\\n', 'húmedo\\n', 'humilde\\n', 'humillación\\n', 'humo\\n', 'humor\\n', 'hundido\\n', 'hundir\\n', 'ida\\n', 'idea\\n', 'ideal\\n', 'ideal\\n', 'idéntico\\n', 'identidad\\n', 'identificación\\n', 'identificar\\n', 'ideología\\n', 'ideológico\\n', 'idioma\\n', 'idiota\\n', 'iglesia\\n', 'ignorancia\\n', 'ignorante\\n', 'ignorar\\n', 'igual\\n', 'igualar\\n', 'igualdad\\n', 'igualmente\\n', 'ilegal\\n', 'ilimitado\\n', 'iluminación\\n', 'iluminado\\n', 'iluminar\\n', 'ilusión\\n', 'ilustración\\n', 'ilustrado\\n', 'ilustrar\\n', 'ilustre\\n', 'imagen\\n', 'imaginación\\n', 'imaginar\\n', 'imaginario\\n', 'imitación\\n', 'imitar\\n', 'impacto\\n', 'impartir\\n', 'impecable\\n', 'impedir\\n', 'imperial\\n', 'imperio\\n', 'implacable\\n', 'implicar\\n', 'imponente\\n', 'imponer\\n', 'importado\\n', 'importancia\\n', 'importante\\n', 'importar\\n', 'imposibilidad\\n', 'imposible\\n', 'imposición\\n', 'impotencia\\n', 'impreciso\\n', 'imprenta\\n', 'imprescindible\\n', 'impresión\\n', 'impresionante\\n', 'impresionar\\n', 'impreso\\n', 'imprevisto\\n', 'imprimir\\n', 'improvisar\\n', 'impuesto\\n', 'impulsar\\n', 'impulso\\n', 'inaugurar\\n', 'incapacidad\\n', 'incapaz\\n', 'incendio\\n', 'incertidumbre\\n', 'incidencia\\n', 'incidente\\n', 'incidir\\n', 'incierto\\n', 'incipiente\\n', 'incitar\\n', 'inclinación\\n', 'inclinado\\n', 'inclinar\\n', 'incluir\\n', 'inclusive\\n', 'incluso\\n', 'incómodo\\n', 'incomprensible\\n', 'inconsciente\\n', 'inconveniente\\n', 'incorporación\\n', 'incorporar\\n', 'increíble\\n', 'incrementar\\n', 'incremento\\n', 'incurrir\\n', 'incursión\\n', 'indagar\\n', 'indefinido\\n', 'independencia\\n', 'independiente\\n', 'independientemente\\n', 'indicación\\n', 'indicar\\n', 'índice\\n', 'indicio\\n', 'indiferencia\\n', 'indiferente\\n', 'indígena\\n', 'indignación\\n', 'indio\\n', 'indirecto\\n', 'indiscutible\\n', 'indispensable\\n', 'individual\\n', 'individuo\\n', 'índole\\n', 'inducir\\n', 'indudable\\n', 'indudablemente\\n', 'industria\\n', 'industrial\\n', 'inédito\\n', 'inesperado\\n', 'inestable\\n', 'inevitable\\n', 'inevitablemente\\n', 'inexistente\\n', 'inexplicable\\n', 'infancia\\n', 'infantil\\n', 'infección\\n', 'infeliz\\n', 'inferior\\n', 'infierno\\n', 'infinidad\\n', 'infinito\\n', 'infinito\\n', 'influencia\\n', 'influir\\n', 'información\\n', 'informar\\n', 'informativo\\n', 'informe\\n', 'ingeniero\\n', 'ingenio\\n', 'ingenioso\\n', 'ingenuo\\n', 'inglés\\n', 'ingrediente\\n', 'ingresar\\n', 'ingreso\\n', 'inicial\\n', 'inicial\\n', 'inicialmente\\n', 'iniciar\\n', 'iniciativa\\n', 'inicio\\n', 'injusticia\\n', 'injusto\\n', 'inmediatamente\\n', 'inmediato\\n', 'inmenso\\n', 'inmerso\\n', 'inmigrante\\n', 'inminente\\n', 'inmóvil\\n', 'innecesario\\n', 'innovación\\n', 'innumerable\\n', 'inocencia\\n', 'inocente\\n', 'inolvidable\\n', 'inquietante\\n', 'inquietar\\n', 'inquieto\\n', 'inquietud\\n', 'inscribir\\n', 'inscripción\\n', 'insecto\\n', 'inseguridad\\n', 'inseguro\\n', 'inseparable\\n', 'insertar\\n', 'insignificante\\n', 'insinuar\\n', 'insistencia\\n', 'insistir\\n', 'insólito\\n', 'insoportable\\n', 'inspección\\n', 'inspector\\n', 'inspiración\\n', 'inspirar\\n', 'instalación\\n', 'instalar\\n', 'instancia\\n', 'instante\\n', 'instinto\\n', 'institución\\n', 'institucional\\n', 'instituto\\n', 'instrucción\\n', 'instruir\\n', 'instrumento\\n', 'insuficiente\\n', 'insultar\\n', 'insulto\\n', 'intacto\\n', 'integración\\n', 'integrante\\n', 'integrar\\n', 'integridad\\n', 'íntegro\\n', 'intelectual\\n', 'inteligencia\\n', 'inteligente\\n', 'intención\\n', 'intensamente\\n', 'intensidad\\n', 'intenso\\n', 'intentar\\n', 'intento\\n', 'intercambiar\\n', 'intercambio\\n', 'interés\\n', 'interesado\\n', 'interesante\\n', 'interesar\\n', 'interior\\n', 'interior\\n', 'interlocutor\\n', 'intermedio\\n', 'intermedio\\n', 'interminable\\n', 'internacional\\n', 'internar\\n', 'interno\\n', 'interponer\\n', 'interpretación\\n', 'interpretar\\n', 'intérprete\\n', 'interrogante\\n', 'interrogar\\n', 'interrumpir\\n', 'interrupción\\n', 'intervalo\\n', 'intervención\\n', 'intervenir\\n', 'íntimamente\\n', 'intimidad\\n', 'íntimo\\n', 'introducción\\n', 'introducir\\n', 'intuición\\n', 'intuir\\n', 'inundación\\n', 'inundar\\n', 'inútil\\n', 'invadir\\n', 'invasión\\n', 'invención\\n', 'inventar\\n', 'invento\\n', 'inversión\\n', 'inverso\\n', 'invertido\\n', 'invertir\\n', 'investigación\\n', 'investigador\\n', 'investigar\\n', 'invierno\\n', 'invisible\\n', 'invitación\\n', 'invitado\\n', 'invitar\\n', 'invocar\\n', 'involuntario\\n', 'inyección\\n', 'ir\\n', 'ira\\n', 'ironía\\n', 'irónico\\n', 'irracional\\n', 'irreal\\n', 'irregular\\n', 'irreversible\\n', 'irritar\\n', 'irrumpir\\n', 'isla\\n', 'italiano\\n', 'izquierda\\n', 'izquierdo\\n', 'jamás\\n', 'japonés\\n', 'jardín\\n', 'jaula\\n', 'jefe\\n', 'jerarquía\\n', 'jinete\\n', 'joder\\n', 'jornada\\n', 'joven\\n', 'joven\\n', 'jovencito\\n', 'joya\\n', 'judicial\\n', 'judío\\n', 'juego\\n', 'jueves\\n', 'juez\\n', 'jugada\\n', 'jugador\\n', 'jugar\\n', 'jugo\\n', 'juguete\\n', 'juicio\\n', 'julio\\n', 'junio\\n', 'junta\\n', 'juntar\\n', 'junto\\n', 'junto\\n', 'jurar\\n', 'jurídico\\n', 'justamente\\n', 'justicia\\n', 'justificación\\n', 'justificado\\n', 'justificar\\n', 'justo\\n', 'justo\\n', 'juvenil\\n', 'juventud\\n', 'juzgar\\n', 'kilo\\n', 'kilómetro\\n', 'la\\n', 'laberinto\\n', 'labio\\n', 'labor\\n', 'laboral\\n', 'laboratorio\\n', 'laborioso\\n', 'lado\\n', 'ladrillo\\n', 'ladrón\\n', 'lago\\n', 'lágrima\\n', 'laguna\\n', 'lamentable\\n', 'lamentablemente\\n', 'lamentar\\n', 'lámina\\n', 'lámpara\\n', 'lana\\n', 'lanzar\\n', 'lápiz\\n', 'lapso\\n', 'largamente\\n', 'largar\\n', 'largo\\n', 'largo\\n', 'larguísimo\\n', 'lástima\\n', 'lata\\n', 'latente\\n', 'lateral\\n', 'latín\\n', 'latino\\n', 'latinoamericano\\n', 'latir\\n', 'latitud\\n', 'lavar\\n', 'lazo\\n', 'le\\n', 'leal\\n', 'lealtad\\n', 'lección\\n', 'leche\\n', 'lecho\\n', 'lector\\n', 'lectura\\n', 'leer\\n', 'legal\\n', 'legislación\\n', 'legítimo\\n', 'lejano\\n', 'lejos\\n', 'lema\\n', 'leña\\n', 'lengua\\n', 'lenguaje\\n', 'lentamente\\n', 'lente\\n', 'lentitud\\n', 'lento\\n', 'león\\n', 'lesión\\n', 'letra\\n', 'levantar\\n', 'leve\\n', 'ley\\n', 'leyenda\\n', 'liberación\\n', 'liberal\\n', 'liberar\\n', 'libertad\\n', 'libra\\n', 'librar\\n', 'libre\\n', 'libremente\\n', 'librería\\n', 'libro\\n', 'licencia\\n', 'líder\\n', 'ligado\\n', 'ligar\\n', 'ligeramente\\n', 'ligero\\n', 'limitación\\n', 'limitado\\n', 'limitar\\n', 'límite\\n', 'limosna\\n', 'limpiar\\n', 'limpieza\\n', 'limpio\\n', 'lindo\\n', 'línea\\n', 'lingüístico\\n', 'lío\\n', 'liquidar\\n', 'líquido\\n', 'liso\\n', 'lista\\n', 'listo\\n', 'literalmente\\n', 'literario\\n', 'literatura\\n', 'litro\\n', 'liviano\\n', 'llama\\n', 'llamada\\n', 'llamado\\n', 'llamar\\n', 'llamativo\\n', 'llano\\n', 'llanto\\n', 'llanura\\n', 'llave\\n', 'llegada\\n', 'llegar\\n', 'llenar\\n', 'lleno\\n', 'llevar\\n', 'llorar\\n', 'llover\\n', 'lluvia\\n', 'lo\\n', 'lo\\n', 'lobo\\n', 'local\\n', 'local\\n', 'localidad\\n', 'localizar\\n', 'loco\\n', 'locura\\n', 'lógica\\n', 'lógicamente\\n', 'lógico\\n', 'lograr\\n', 'logro\\n', 'lomo\\n', 'longitud\\n', 'lucha\\n', 'luchar\\n', 'lucir\\n', 'luego\\n', 'lugar\\n', 'lujo\\n', 'lujoso\\n', 'luminoso\\n', 'luna\\n', 'lunes\\n', 'luz\\n', 'macho\\n', 'madera\\n', 'madre\\n', 'madrugada\\n', 'madurar\\n', 'madurez\\n', 'maduro\\n', 'maestra\\n', 'maestro\\n', 'maestro\\n', 'magia\\n', 'mágico\\n', 'magnífico\\n', 'magnitud\\n', 'maíz\\n', 'mal\\n', 'mal\\n', 'maldad\\n', 'maldición\\n', 'maldito\\n', 'malestar\\n', 'maleta\\n', 'maligno\\n', 'malo\\n', 'mamá\\n', 'mañana\\n', 'mañana\\n', 'mancha\\n', 'mandar\\n', 'mandato\\n', 'mando\\n', 'manejar\\n', 'manejo\\n', 'manera\\n', 'manga\\n', 'mango\\n', 'manía\\n', 'manifestación\\n', 'manifestar\\n', 'manifiesto\\n', 'maniobra\\n', 'manipular\\n', 'mano\\n', 'manta\\n', 'mantener\\n', 'mantenimiento\\n', 'manto\\n', 'manual\\n', 'manual\\n', 'manzana\\n', 'mapa\\n', 'máquina\\n', 'maquinaria\\n', 'mar\\n', 'maravilla\\n', 'maravilloso\\n', 'marca\\n', 'marcar\\n', 'marcha\\n', 'marchar\\n', 'marco\\n', 'marea\\n', 'margen\\n', 'marginal\\n', 'marido\\n', 'marinero\\n', 'marino\\n', 'mariposa\\n', 'mármol\\n', 'marrón\\n', 'martes\\n', 'martillo\\n', 'marzo\\n', 'mas\\n', 'más\\n', 'masa\\n', 'máscara\\n', 'masculino\\n', 'masivo\\n', 'matanza\\n', 'matar\\n', 'mate\\n', 'matemática\\n', 'matemático\\n', 'materia\\n', 'material\\n', 'material\\n', 'materno\\n', 'matiz\\n', 'matrimonial\\n', 'matrimonio\\n', 'máximo\\n', 'máximo\\n', 'mayo\\n', 'mayor\\n', 'mayoría\\n', 'me\\n', 'mecánica\\n', 'mecánico\\n', 'mecanismo\\n', 'medalla\\n', 'media\\n', 'mediado\\n', 'mediano\\n', 'mediante\\n', 'mediar\\n', 'medicamento\\n', 'medicina\\n', 'médico\\n', 'médico\\n', 'medida\\n', 'medieval\\n', 'medio\\n', 'medio\\n', 'mediocre\\n', 'mediodía\\n', 'medir\\n', 'meditar\\n', 'mejilla\\n', 'mejor\\n', 'mejora\\n', 'mejorar\\n', 'melancólico\\n', 'melodía\\n', 'memoria\\n', 'mención\\n', 'mencionar\\n', 'menor\\n', 'menos\\n', 'mensaje\\n', 'mensual\\n', 'mental\\n', 'mentalidad\\n', 'mentalmente\\n', 'mente\\n', 'mentir\\n', 'mentira\\n', 'menudo\\n', 'mercado\\n', 'mercancía\\n', 'merced\\n', 'merecer\\n', 'mérito\\n', 'mero\\n', 'mes\\n', 'mesa\\n', 'meta\\n', 'metáfora\\n', 'metal\\n', 'metálico\\n', 'meter\\n', 'método\\n', 'metro\\n', 'mexicano\\n', 'mezcla\\n', 'mezclado\\n', 'mezclar\\n', 'mi\\n', 'mí\\n', 'micrófono\\n', 'miedo\\n', 'miel\\n', 'miembro\\n', 'mientras\\n', 'miércoles\\n', 'mierda\\n', 'mil\\n', 'milagro\\n', 'militar\\n', 'militar\\n', 'millón\\n', 'mina\\n', 'mínimo\\n', 'mínimo\\n', 'ministerio\\n', 'ministro\\n', 'minoría\\n', 'minucioso\\n', 'minúsculo\\n', 'minuto\\n', 'mío\\n', 'mirada\\n', 'mirar\\n', 'misa\\n', 'miserable\\n', 'miseria\\n', 'misión\\n', 'mismísimo\\n', 'mismo\\n', 'misterio\\n', 'misterioso\\n', 'místico\\n', 'mitad\\n', 'mito\\n', 'mixto\\n', 'moda\\n', 'modalidad\\n', 'modelo\\n', 'moderno\\n', 'modesto\\n', 'modificación\\n', 'modificar\\n', 'modo\\n', 'mojado\\n', 'mojar\\n', 'molde\\n', 'molestar\\n', 'molestia\\n', 'molesto\\n', 'molino\\n', 'momento\\n', 'moneda\\n', 'monja\\n', 'mono\\n', 'monótono\\n', 'monstruo\\n', 'monstruoso\\n', 'montaña\\n', 'montar\\n', 'monte\\n', 'montón\\n', 'monumental\\n', 'monumento\\n', 'moral\\n', 'moral\\n', 'morder\\n', 'moreno\\n', 'morir\\n', 'mortal\\n', 'mortal\\n', 'mosaico\\n', 'mosca\\n', 'mostrar\\n', 'motivación\\n', 'motivar\\n', 'motivo\\n', 'motor\\n', 'mover\\n', 'móvil\\n', 'movilizar\\n', 'movimiento\\n', 'mozo\\n', 'muchacha\\n', 'muchacho\\n', 'muchísimo\\n', 'mucho\\n', 'mudar\\n', 'mudo\\n', 'mueble\\n', 'muelle\\n', 'muerte\\n', 'muerto\\n', 'muerto\\n', 'muestra\\n', 'mujer\\n', 'múltiple\\n', 'multiplicar\\n', 'multitud\\n', 'mundial\\n', 'mundo\\n', 'muñeca\\n', 'municipal\\n', 'muralla\\n', 'muro\\n', 'músculo\\n', 'museo\\n', 'música\\n', 'musical\\n', 'músico\\n', 'muslo\\n', 'mutuamente\\n', 'mutuo\\n', 'muy\\n', 'nacer\\n', 'nacimiento\\n', 'nación\\n', 'nacional\\n', 'nacionalidad\\n', 'nada\\n', 'nadar\\n', 'nadie\\n', 'naranja\\n', 'nariz\\n', 'narración\\n', 'narrar\\n', 'nativo\\n', 'natural\\n', 'naturaleza\\n', 'naturalidad\\n', 'naturalmente\\n', 'navaja\\n', 'nave\\n', 'navegación\\n', 'navegar\\n', 'necesariamente\\n', 'necesario\\n', 'necesidad\\n', 'necesitado\\n', 'necesitar\\n', 'negar\\n', 'negativa\\n', 'negativo\\n', 'negociación\\n', 'negociar\\n', 'negocio\\n', 'negro\\n', 'nervio\\n', 'nervioso\\n', 'neutro\\n', 'ni\\n', 'nido\\n', 'niebla\\n', 'nieto\\n', 'nieve\\n', 'niña\\n', 'niñez\\n', 'ninguno\\n', 'niño\\n', 'nítido\\n', 'nivel\\n', 'no\\n', 'noble\\n', 'noble\\n', 'nobleza\\n', 'noche\\n', 'noción\\n', 'nocturno\\n', 'nombrar\\n', 'nombre\\n', 'norma\\n', 'normal\\n', 'normalidad\\n', 'normalmente\\n', 'norte\\n', 'norteamericano\\n', 'nos\\n', 'nosotros\\n', 'nostalgia\\n', 'nota\\n', 'notable\\n', 'notar\\n', 'noticia\\n', 'notorio\\n', 'novedad\\n', 'novela\\n', 'novelista\\n', 'noventa\\n', 'novia\\n', 'noviembre\\n', 'novio\\n', 'nube\\n', 'núcleo\\n', 'nudo\\n', 'nuestro\\n', 'nuevamente\\n', 'nueve\\n', 'nuevo\\n', 'nulo\\n', 'número\\n', 'numeroso\\n', 'nunca\\n', 'o\\n', 'obedecer\\n', 'obediencia\\n', 'obispo\\n', 'objetivo\\n', 'objetivo\\n', 'objeto\\n', 'obligación\\n', 'obligado\\n', 'obligar\\n', 'obligatorio\\n', 'obra\\n', 'obrar\\n', 'obrero\\n', 'obrero\\n', 'observación\\n', 'observador\\n', 'observar\\n', 'obsesión\\n', 'obstáculo\\n', 'obstante\\n', 'obtener\\n', 'obviamente\\n', 'obvio\\n', 'ocasión\\n', 'ocasional\\n', 'ocasionar\\n', 'occidental\\n', 'océano\\n', 'ochenta\\n', 'ocho\\n', 'ocio\\n', 'octubre\\n', 'ocultar\\n', 'oculto\\n', 'ocupación\\n', 'ocupado\\n', 'ocupar\\n', 'ocurrencia\\n', 'ocurrir\\n', 'odiar\\n', 'odio\\n', 'oeste\\n', 'ofender\\n', 'oferta\\n', 'oficial\\n', 'oficial\\n', 'oficialmente\\n', 'oficina\\n', 'oficio\\n', 'ofrecer\\n', 'oh\\n', 'oído\\n', 'oír\\n', 'ojalá\\n', 'ojo\\n', 'ola\\n', 'oler\\n', 'olfato\\n', 'olla\\n', 'olor\\n', 'olvidar\\n', 'olvido\\n', 'once\\n', 'onda\\n', 'opaco\\n', 'opción\\n', 'ópera\\n', 'operación\\n', 'operar\\n', 'opinar\\n', 'opinión\\n', 'oponer\\n', 'oportunidad\\n', 'oportuno\\n', 'oposición\\n', 'optar\\n', 'optimismo\\n', 'optimista\\n', 'óptimo\\n', 'opuesto\\n', 'oración\\n', 'oral\\n', 'órbita\\n', 'orden\\n', 'ordenado\\n', 'ordenar\\n', 'ordinario\\n', 'oreja\\n', 'orgánico\\n', 'organismo\\n', 'organización\\n', 'organizado\\n', 'organizar\\n', 'órgano\\n', 'orgullo\\n', 'orgulloso\\n', 'orientación\\n', 'orientado\\n', 'oriental\\n', 'orientar\\n', 'oriente\\n', 'origen\\n', 'original\\n', 'original\\n', 'originar\\n', 'orilla\\n', 'oro\\n', 'orquesta\\n', 'os\\n', 'oscilar\\n', 'oscurecer\\n', 'oscuridad\\n', 'oscuro\\n', 'oso\\n', 'ostentar\\n', 'otoño\\n', 'otorgar\\n', 'otro\\n', 'oveja\\n', 'oxígeno\\n', 'pabellón\\n', 'paciencia\\n', 'paciente\\n', 'pacífico\\n', 'pacto\\n', 'padecer\\n', 'padre\\n', 'padrino\\n', 'pagar\\n', 'página\\n', 'pago\\n', 'país\\n', 'paisaje\\n', 'paja\\n', 'pájaro\\n', 'pala\\n', 'palabra\\n', 'palacio\\n', 'pálido\\n', 'palma\\n', 'palo\\n', 'paloma\\n', 'palpar\\n', 'pan\\n', 'pánico\\n', 'panorama\\n', 'pantalla\\n', 'pantalón\\n', 'pañuelo\\n', 'papa\\n', 'papá\\n', 'papel\\n', 'paquete\\n', 'par\\n', 'para\\n', 'parada\\n', 'parado\\n', 'paraíso\\n', 'paraje\\n', 'paralelo\\n', 'paralizado\\n', 'paralizar\\n', 'parar\\n', 'parcela\\n', 'parcial\\n', 'parcialmente\\n', 'pardo\\n', 'parecer\\n', 'parecer\\n', 'parecido\\n', 'pared\\n', 'pareja\\n', 'parentesco\\n', 'paréntesis\\n', 'pariente\\n', 'parir\\n', 'parlamentario\\n', 'parque\\n', 'párrafo\\n', 'parroquia\\n', 'parte\\n', 'participación\\n', 'participante\\n', 'participar\\n', 'partícula\\n', 'particular\\n', 'particular\\n', 'particularmente\\n', 'partida\\n', 'partidario\\n', 'partido\\n', 'partir\\n', 'parto\\n', 'pasado\\n', 'pasado\\n', 'pasaje\\n', 'pasajero\\n', 'pasajero\\n', 'pasar\\n', 'pasear\\n', 'paseo\\n', 'pasillo\\n', 'pasión\\n', 'pasivo\\n', 'paso\\n', 'pasta\\n', 'pastilla\\n', 'pasto\\n', 'pastor\\n', 'pata\\n', 'patada\\n', 'paterno\\n', 'patio\\n', 'pato\\n', 'patria\\n', 'patrimonio\\n', 'patriótico\\n', 'patrón\\n', 'pausa\\n', 'pauta\\n', 'paz\\n', 'pecado\\n', 'pecar\\n', 'pecho\\n', 'peculiar\\n', 'pedagógico\\n', 'pedazo\\n', 'pedir\\n', 'pegar\\n', 'pelea\\n', 'pelear\\n', 'película\\n', 'peligro\\n', 'peligroso\\n', 'pelo\\n', 'pelota\\n', 'pena\\n', 'penal\\n', 'pendiente\\n', 'penetración\\n', 'penetrar\\n', 'penoso\\n', 'pensado\\n', 'pensamiento\\n', 'pensar\\n', 'pensión\\n', 'penumbra\\n', 'peón\\n', 'peor\\n', 'peor\\n', 'pequeñito\\n', 'pequeño\\n', 'percatar\\n', 'percepción\\n', 'percibir\\n', 'perder\\n', 'pérdida\\n', 'perdido\\n', 'perdón\\n', 'perdonar\\n', 'perdurar\\n', 'perfección\\n', 'perfeccionar\\n', 'perfectamente\\n', 'perfecto\\n', 'perfil\\n', 'perfilar\\n', 'perfume\\n', 'periódico\\n', 'periodismo\\n', 'periodista\\n', 'periodístico\\n', 'período\\n', 'perjudicar\\n', 'perjuicio\\n', 'perla\\n', 'permanecer\\n', 'permanencia\\n', 'permanente\\n', 'permanentemente\\n', 'permiso\\n', 'permitir\\n', 'pero\\n', 'perpetuo\\n', 'perro\\n', 'persecución\\n', 'perseguir\\n', 'persistente\\n', 'persistir\\n', 'persona\\n', 'personaje\\n', 'personal\\n', 'personal\\n', 'personalidad\\n', 'personalmente\\n', 'perspectiva\\n', 'pertenecer\\n', 'perteneciente\\n', 'pertenencia\\n', 'perturbar\\n', 'peruano\\n', 'perverso\\n', 'pesadilla\\n', 'pesado\\n', 'pesar\\n', 'pesar\\n', 'pesca\\n', 'pescado\\n', 'pescador\\n', 'pescar\\n', 'peseta\\n', 'pésimo\\n', 'peso\\n', 'peste\\n', 'petición\\n', 'petróleo\\n', 'pez\\n', 'piadoso\\n', 'piano\\n', 'picar\\n', 'pico\\n', 'pie\\n', 'piedad\\n', 'piedra\\n', 'piel\\n', 'pierna\\n', 'pieza\\n', 'pila\\n', 'pilar\\n', 'piloto\\n', 'pino\\n', 'pinta\\n', 'pintado\\n', 'pintar\\n', 'pintor\\n', 'pintoresco\\n', 'pintura\\n', 'pionero\\n', 'pirámide\\n', 'pisar\\n', 'piscina\\n', 'piso\\n', 'pista\\n', 'pistola\\n', 'placa\\n', 'placer\\n', 'plan\\n', 'plancha\\n', 'planear\\n', 'planeta\\n', 'plano\\n', 'plano\\n', 'planta\\n', 'plantar\\n', 'planteamiento\\n', 'plantear\\n', 'plástico\\n', 'plástico\\n', 'plata\\n', 'plataforma\\n', 'plato\\n', 'playa\\n', 'plaza\\n', 'plazo\\n', 'pleito\\n', 'plenamente\\n', 'plenitud\\n', 'pleno\\n', 'plomo\\n', 'pluma\\n', 'población\\n', 'poblado\\n', 'poblar\\n', 'pobre\\n', 'pobreza\\n', 'poco\\n', 'poder\\n', 'poder\\n', 'poderoso\\n', 'poema\\n', 'poesía\\n', 'poeta\\n', 'poético\\n', 'polémica\\n', 'policía\\n', 'policial\\n', 'política\\n', 'político\\n', 'político\\n', 'pollo\\n', 'polo\\n', 'polvo\\n', 'pólvora\\n', 'poner\\n', 'popular\\n', 'poquito\\n', 'por\\n', 'porcentaje\\n', 'porción\\n', 'porque\\n', 'porquería\\n', 'portador\\n', 'portar\\n', 'portero\\n', 'portugués\\n', 'porvenir\\n', 'posar\\n', 'poseer\\n', 'posesión\\n', 'posibilidad\\n', 'posible\\n', 'posiblemente\\n', 'posición\\n', 'positivo\\n', 'posterior\\n', 'posteriormente\\n', 'postre\\n', 'postura\\n', 'potencia\\n', 'potencial\\n', 'potente\\n', 'pozo\\n', 'práctica\\n', 'prácticamente\\n', 'practicar\\n', 'práctico\\n', 'precario\\n', 'precaución\\n', 'precedente\\n', 'preceder\\n', 'precio\\n', 'precioso\\n', 'precipitar\\n', 'precisamente\\n', 'precisar\\n', 'precisión\\n', 'preciso\\n', 'predecir\\n', 'predicar\\n', 'predominar\\n', 'preferencia\\n', 'preferible\\n', 'preferido\\n', 'preferir\\n', 'pregunta\\n', 'preguntar\\n', 'prejuicio\\n', 'prematuro\\n', 'premiar\\n', 'premio\\n', 'prenda\\n', 'prender\\n', 'prensa\\n', 'preocupación\\n', 'preocupado\\n', 'preocupar\\n', 'preparación\\n', 'preparado\\n', 'preparar\\n', 'presa\\n', 'prescindir\\n', 'presencia\\n', 'presenciar\\n', 'presentación\\n', 'presentar\\n', 'presente\\n', 'presente\\n', 'presentir\\n', 'preservar\\n', 'presidencia\\n', 'presidencial\\n', 'presidente\\n', 'presidir\\n', 'presión\\n', 'presionar\\n', 'preso\\n', 'preso\\n', 'prestado\\n', 'préstamo\\n', 'prestar\\n', 'prestigio\\n', 'prestigioso\\n', 'presumir\\n', 'presunto\\n', 'presupuesto\\n', 'pretender\\n', 'pretensión\\n', 'pretexto\\n', 'prevalecer\\n', 'prevención\\n', 'prevenir\\n', 'prever\\n', 'previamente\\n', 'previo\\n', 'previsible\\n', 'previsión\\n', 'previsto\\n', 'prima\\n', 'primario\\n', 'primavera\\n', 'primero\\n', 'primitivo\\n', 'primo\\n', 'primordial\\n', 'princesa\\n', 'principal\\n', 'principalmente\\n', 'príncipe\\n', 'principio\\n', 'prioridad\\n', 'prisa\\n', 'prisión\\n', 'prisionero\\n', 'privado\\n', 'privar\\n', 'privilegiado\\n', 'privilegio\\n', 'probabilidad\\n', 'probable\\n', 'probablemente\\n', 'probar\\n', 'problema\\n', 'procedencia\\n', 'procedente\\n', 'proceder\\n', 'procedimiento\\n', 'procesión\\n', 'proceso\\n', 'proclamar\\n', 'procurar\\n', 'prodigioso\\n', 'producción\\n', 'producir\\n', 'productivo\\n', 'producto\\n', 'productor\\n', 'profesión\\n', 'profesional\\n', 'profesor\\n', 'profeta\\n', 'profundamente\\n', 'profundidad\\n', 'profundizar\\n', 'profundo\\n', 'programa\\n', 'programar\\n', 'progresar\\n', 'progresivo\\n', 'progreso\\n', 'prohibición\\n', 'prohibido\\n', 'prohibir\\n', 'prolongación\\n', 'prolongado\\n', 'prolongar\\n', 'promesa\\n', 'prometer\\n', 'promoción\\n', 'promover\\n', 'pronto\\n', 'pronunciar\\n', 'propaganda\\n', 'propagar\\n', 'propiamente\\n', 'propiciar\\n', 'propicio\\n', 'propiedad\\n', 'propietario\\n', 'propio\\n', 'proponer\\n', 'proporción\\n', 'proporcionar\\n', 'proposición\\n', 'propósito\\n', 'propuesta\\n', 'prosa\\n', 'proseguir\\n', 'prosperar\\n', 'protagonista\\n', 'protección\\n', 'protector\\n', 'proteger\\n', 'protesta\\n', 'protestar\\n', 'provecho\\n', 'proveer\\n', 'proveniente\\n', 'provenir\\n', 'provincia\\n', 'provincial\\n', 'provocar\\n', 'proximidad\\n', 'próximo\\n', 'proyección\\n', 'proyectar\\n', 'proyecto\\n', 'prudencia\\n', 'prudente\\n', 'prueba\\n', 'psicología\\n', 'psicológico\\n', 'psicólogo\\n', 'publicación\\n', 'públicamente\\n', 'publicar\\n', 'publicidad\\n', 'publicitario\\n', 'público\\n', 'público\\n', 'pueblo\\n', 'puente\\n', 'puerta\\n', 'puerto\\n', 'pues\\n', 'puesto\\n', 'pugna\\n', 'pulmón\\n', 'pulso\\n', 'puñado\\n', 'puño\\n', 'punta\\n', 'punto\\n', 'puntual\\n', 'puramente\\n', 'pureza\\n', 'puro\\n', 'puta\\n', 'que\\n', 'qué\\n', 'quebrar\\n', 'quedar\\n', 'quehacer\\n', 'queja\\n', 'quejar\\n', 'quemado\\n', 'quemar\\n', 'querer\\n', 'querido\\n', 'queso\\n', 'quien\\n', 'quién\\n', 'quieto\\n', 'químico\\n', 'quince\\n', 'quinientos\\n', 'quinto\\n', 'quitar\\n', 'quizás\\n', 'rabia\\n', 'racional\\n', 'radical\\n', 'radicalmente\\n', 'radicar\\n', 'radio\\n', 'raíz\\n', 'rama\\n', 'ramo\\n', 'rancho\\n', 'rango\\n', 'rápidamente\\n', 'rapidez\\n', 'rápido\\n', 'raro\\n', 'rascar\\n', 'rasgo\\n', 'rastro\\n', 'rata\\n', 'ratificar\\n', 'rato\\n', 'ratón\\n', 'raya\\n', 'rayo\\n', 'raza\\n', 'razón\\n', 'razonable\\n', 'razonamiento\\n', 'razonar\\n', 'reacción\\n', 'reaccionar\\n', 'real\\n', 'realidad\\n', 'realismo\\n', 'realista\\n', 'realización\\n', 'realizar\\n', 'realmente\\n', 'reanudar\\n', 'reaparecer\\n', 'rebajar\\n', 'rebaño\\n', 'rebasar\\n', 'rebelde\\n', 'rebelde\\n', 'rebeldía\\n', 'rebelión\\n', 'recelo\\n', 'recepción\\n', 'receta\\n', 'rechazar\\n', 'rechazo\\n', 'recibir\\n', 'recién\\n', 'reciente\\n', 'recientemente\\n', 'recinto\\n', 'recipiente\\n', 'recíproco\\n', 'recitar\\n', 'reclamar\\n', 'reclamo\\n', 'recobrar\\n', 'recoger\\n', 'recomendación\\n', 'recomendar\\n', 'recompensa\\n', 'reconocer\\n', 'reconocimiento\\n', 'reconstrucción\\n', 'reconstruir\\n', 'recordar\\n', 'recorrer\\n', 'recorrido\\n', 'recortar\\n', 'recorte\\n', 'recrear\\n', 'rectificar\\n', 'recto\\n', 'recuerdo\\n', 'recuperación\\n', 'recuperar\\n', 'recurrir\\n', 'recurso\\n', 'red\\n', 'redacción\\n', 'redactar\\n', 'redondo\\n', 'reducción\\n', 'reducido\\n', 'reducir\\n', 'reemplazar\\n', 'referencia\\n', 'referente\\n', 'referir\\n', 'refinado\\n', 'reflejado\\n', 'reflejar\\n', 'reflejo\\n', 'reflexión\\n', 'reflexionar\\n', 'reforma\\n', 'reforzar\\n', 'refugiar\\n', 'refugio\\n', 'regalar\\n', 'regalo\\n', 'regar\\n', 'régimen\\n', 'región\\n', 'regional\\n', 'regir\\n', 'registrar\\n', 'registro\\n', 'regla\\n', 'reglamento\\n', 'regresar\\n', 'regreso\\n', 'regular\\n', 'regular\\n', 'reina\\n', 'reinar\\n', 'reino\\n', 'reír\\n', 'reiterar\\n', 'reivindicación\\n', 'relación\\n', 'relacionado\\n', 'relacionar\\n', 'relajar\\n', 'relatar\\n', 'relativamente\\n', 'relativo\\n', 'relato\\n', 'relevante\\n', 'relieve\\n', 'religión\\n', 'religioso\\n', 'reloj\\n', 'rematar\\n', 'remediar\\n', 'remedio\\n', 'remitir\\n', 'remontar\\n', 'remoto\\n', 'remover\\n', 'renacer\\n', 'rencor\\n', 'rendimiento\\n', 'rendir\\n', 'renovación\\n', 'renovar\\n', 'renta\\n', 'renuncia\\n', 'renunciar\\n', 'reparar\\n', 'repartir\\n', 'reparto\\n', 'repasar\\n', 'repente\\n', 'repentino\\n', 'repercusión\\n', 'repertorio\\n', 'repetición\\n', 'repetido\\n', 'repetir\\n', 'repleto\\n', 'réplica\\n', 'replicar\\n', 'reponer\\n', 'reportaje\\n', 'reposar\\n', 'reposo\\n', 'representación\\n', 'representante\\n', 'representar\\n', 'representativo\\n', 'represión\\n', 'reprimir\\n', 'reprochar\\n', 'reproche\\n', 'reproducción\\n', 'reproducir\\n', 'república\\n', 'republicano\\n', 'requerir\\n', 'requisito\\n', 'resaltar\\n', 'rescatar\\n', 'rescate\\n', 'resentimiento\\n', 'reserva\\n', 'reservado\\n', 'reservar\\n', 'residencia\\n', 'residir\\n', 'residuo\\n', 'resignación\\n', 'resignar\\n', 'resistencia\\n', 'resistir\\n', 'resolución\\n', 'resolver\\n', 'resonancia\\n', 'respaldo\\n', 'respectivo\\n', 'respecto\\n', 'respetable\\n', 'respetar\\n', 'respeto\\n', 'respetuoso\\n', 'respiración\\n', 'respirar\\n', 'responder\\n', 'responsabilidad\\n', 'responsable\\n', 'respuesta\\n', 'restablecer\\n', 'restante\\n', 'restar\\n', 'restaurante\\n', 'restaurar\\n', 'resto\\n', 'restricción\\n', 'resucitar\\n', 'resuelto\\n', 'resultado\\n', 'resultar\\n', 'resumen\\n', 'resumir\\n', 'retener\\n', 'retirada\\n', 'retirado\\n', 'retirar\\n', 'retiro\\n', 'reto\\n', 'retomar\\n', 'retornar\\n', 'retorno\\n', 'retrasar\\n', 'retraso\\n', 'retrato\\n', 'retroceder\\n', 'retroceso\\n', 'reunión\\n', 'reunir\\n', 'revelación\\n', 'revelar\\n', 'reventar\\n', 'revés\\n', 'revisar\\n', 'revisión\\n', 'revista\\n', 'revivir\\n', 'revolución\\n', 'revolucionario\\n', 'revolver\\n', 'revuelto\\n', 'rey\\n', 'rezar\\n', 'rico\\n', 'ridículo\\n', 'ridículo\\n', 'rienda\\n', 'riesgo\\n', 'rigidez\\n', 'rígido\\n', 'rigor\\n', 'riguroso\\n', 'rincón\\n', 'riñón\\n', 'río\\n', 'riqueza\\n', 'risa\\n', 'rítmico\\n', 'ritmo\\n', 'rito\\n', 'ritual\\n', 'rival\\n', 'robar\\n', 'robo\\n', 'robusto\\n', 'roca\\n', 'roce\\n', 'rodar\\n', 'rodeado\\n', 'rodear\\n', 'rodilla\\n', 'rogar\\n', 'rojo\\n', 'rol\\n', 'rollo\\n', 'romano\\n', 'romántico\\n', 'romper\\n', 'ronda\\n', 'ropa\\n', 'rosa\\n', 'rosado\\n', 'rosario\\n', 'rostro\\n', 'roto\\n', 'rotundo\\n', 'rozar\\n', 'rubio\\n', 'rudo\\n', 'rueda\\n', 'ruido\\n', 'ruidoso\\n', 'ruina\\n', 'rumbo\\n', 'rumor\\n', 'ruptura\\n', 'rural\\n', 'ruso\\n', 'rústico\\n', 'ruta\\n', 'rutina\\n', 'sábado\\n', 'sábana\\n', 'saber\\n', 'saber\\n', 'sabiduría\\n', 'sabio\\n', 'sabor\\n', 'sabroso\\n', 'sacar\\n', 'sacerdote\\n', 'saco\\n', 'sacrificar\\n', 'sacrificio\\n', 'sacudir\\n', 'sagrado\\n', 'sal\\n', 'sala\\n', 'salario\\n', 'salida\\n', 'salir\\n', 'salón\\n', 'saltar\\n', 'salto\\n', 'salud\\n', 'saludable\\n', 'saludar\\n', 'saludo\\n', 'salvación\\n', 'salvaje\\n', 'salvar\\n', 'salvo\\n', 'sanción\\n', 'sangre\\n', 'sangriento\\n', 'sanitario\\n', 'sano\\n', 'santa\\n', 'santo\\n', 'sargento\\n', 'satisfacción\\n', 'satisfacer\\n', 'satisfactorio\\n', 'satisfecho\\n', 'se\\n', 'secar\\n', 'sección\\n', 'seco\\n', 'secretario\\n', 'secreto\\n', 'secreto\\n', 'sector\\n', 'secuencia\\n', 'secular\\n', 'secundario\\n', 'sed\\n', 'seda\\n', 'sede\\n', 'seducir\\n', 'seguida\\n', 'seguido\\n', 'seguidor\\n', 'seguir\\n', 'según\\n', 'segundo\\n', 'segundo\\n', 'seguramente\\n', 'seguridad\\n', 'seguro\\n', 'seguro\\n', 'seis\\n', 'selección\\n', 'seleccionar\\n', 'sello\\n', 'selva\\n', 'semana\\n', 'semanal\\n', 'sembrar\\n', 'semejante\\n', 'semejanza\\n', 'semilla\\n', 'seminario\\n', 'seña\\n', 'senador\\n', 'señal\\n', 'señalar\\n', 'sencillamente\\n', 'sencillez\\n', 'sencillo\\n', 'senda\\n', 'sendero\\n', 'seno\\n', 'señor\\n', 'señora\\n', 'señorita\\n', 'sensación\\n', 'sensibilidad\\n', 'sensible\\n', 'sentado\\n', 'sentar\\n', 'sentencia\\n', 'sentido\\n', 'sentimental\\n', 'sentimiento\\n', 'sentir\\n', 'sentir\\n', 'separación\\n', 'separado\\n', 'separar\\n', 'septiembre\\n', 'séptimo\\n', 'sequía\\n', 'ser\\n', 'ser\\n', 'serenidad\\n', 'sereno\\n', 'seriamente\\n', 'serie\\n', 'seriedad\\n', 'serio\\n', 'serpiente\\n', 'servicio\\n', 'servidor\\n', 'servidumbre\\n', 'servir\\n', 'sesenta\\n', 'sesión\\n', 'setenta\\n', 'severo\\n', 'sexo\\n', 'sexto\\n', 'sexual\\n', 'si\\n', 'sí\\n', 'siempre\\n', 'sierra\\n', 'siesta\\n', 'siete\\n', 'siglo\\n', 'significación\\n', 'significado\\n', 'significar\\n', 'significativo\\n', 'signo\\n', 'siguiente\\n', 'silencio\\n', 'silencioso\\n', 'silla\\n', 'sillón\\n', 'silvestre\\n', 'simbólico\\n', 'símbolo\\n', 'similar\\n', 'simpatía\\n', 'simpático\\n', 'simple\\n', 'simplemente\\n', 'simular\\n', 'simultáneamente\\n', 'simultáneo\\n', 'sin\\n', 'sinceramente\\n', 'sinceridad\\n', 'sincero\\n', 'sindicato\\n', 'singular\\n', 'siniestro\\n', 'sino\\n', 'síntesis\\n', 'sintético\\n', 'síntoma\\n', 'siquiera\\n', 'sirena\\n', 'sistema\\n', 'sistemático\\n', 'sitio\\n', 'situación\\n', 'situado\\n', 'situar\\n', 'soberanía\\n', 'soberano\\n', 'soberbio\\n', 'sobra\\n', 'sobrar\\n', 'sobre\\n', 'sobrepasar\\n', 'sobresalir\\n', 'sobrevenir\\n', 'sobrevivir\\n', 'sobrino\\n', 'social\\n', 'socialista\\n', 'sociedad\\n', 'socio\\n', 'sofisticado\\n', 'sol\\n', 'solamente\\n', 'solar\\n', 'soldado\\n', 'soledad\\n', 'solemne\\n', 'soler\\n', 'solicitar\\n', 'solicitud\\n', 'solidaridad\\n', 'solidario\\n', 'sólido\\n', 'solitario\\n', 'solo\\n', 'solo\\n', 'soltar\\n', 'soltero\\n', 'solución\\n', 'solucionar\\n', 'sombra\\n', 'sombrero\\n', 'sombrío\\n', 'someter\\n', 'sonar\\n', 'soñar\\n', 'sonido\\n', 'sonoro\\n', 'sonreír\\n', 'sonriente\\n', 'sonrisa\\n', 'sopa\\n', 'soplar\\n', 'soportar\\n', 'soporte\\n', 'sordo\\n', 'sorprendente\\n', 'sorprender\\n', 'sorprendido\\n', 'sorpresa\\n', 'sospecha\\n', 'sospechar\\n', 'sospechoso\\n', 'sostener\\n', 'sostenido\\n', 'sótano\\n', 'soviético\\n', 'su\\n', 'suave\\n', 'suavemente\\n', 'subir\\n', 'súbito\\n', 'subjetivo\\n', 'subrayar\\n', 'subsistir\\n', 'subterráneo\\n', 'suceder\\n', 'sucesión\\n', 'sucesivamente\\n', 'sucesivo\\n', 'suceso\\n', 'sucio\\n', 'sudar\\n', 'sudor\\n', 'sueldo\\n', 'suelo\\n', 'suelto\\n', 'sueño\\n', 'suerte\\n', 'suficiente\\n', 'suficientemente\\n', 'sufrimiento\\n', 'sufrir\\n', 'sugerencia\\n', 'sugerir\\n', 'suicidio\\n', 'suizo\\n', 'sujetar\\n', 'sujeto\\n', 'sujeto\\n', 'suma\\n', 'sumamente\\n', 'sumar\\n', 'sumergir\\n', 'sumido\\n', 'sumo\\n', 'superar\\n', 'superficial\\n', 'superficie\\n', 'superior\\n', 'superioridad\\n', 'supervivencia\\n', 'suponer\\n', 'supremo\\n', 'suprimir\\n', 'supuestamente\\n', 'supuesto\\n', 'sur\\n', 'surgir\\n', 'susceptible\\n', 'suscitar\\n', 'suspender\\n', 'suspirar\\n', 'sustancia\\n', 'sustentar\\n', 'sustituir\\n', 'susto\\n', 'sutil\\n', 'suyo\\n', 'tabaco\\n', 'tabla\\n', 'tablero\\n', 'táctica\\n', 'tacto\\n', 'tal\\n', 'talento\\n', 'talla\\n', 'taller\\n', 'talón\\n', 'tamaño\\n', 'también\\n', 'tambor\\n', 'tampoco\\n', 'tan\\n', 'tanque\\n', 'tanto\\n', 'tapa\\n', 'tapar\\n', 'tardar\\n', 'tarde\\n', 'tarde\\n', 'tardío\\n', 'tarea\\n', 'tarjeta\\n', 'tasa\\n', 'taxi\\n', 'taza\\n', 'te\\n', 'té\\n', 'teatral\\n', 'teatro\\n', 'techo\\n', 'técnica\\n', 'técnico\\n', 'técnico\\n', 'tecnología\\n', 'tecnológico\\n', 'tejado\\n', 'tejer\\n', 'tejido\\n', 'tela\\n', 'telefónico\\n', 'teléfono\\n', 'televisión\\n', 'televisor\\n', 'tema\\n', 'temblar\\n', 'temblor\\n', 'temer\\n', 'temeroso\\n', 'temor\\n', 'temperamento\\n', 'temperatura\\n', 'templo\\n', 'temporada\\n', 'temporal\\n', 'temprano\\n', 'tendencia\\n', 'tender\\n', 'tendido\\n', 'tener\\n', 'teniente\\n', 'tenis\\n', 'tenor\\n', 'tensión\\n', 'tenso\\n', 'tentación\\n', 'tentar\\n', 'tenue\\n', 'teoría\\n', 'teórico\\n', 'tercero\\n', 'tercio\\n', 'terminar\\n', 'término\\n', 'ternura\\n', 'terraza\\n', 'terremoto\\n', 'terreno\\n', 'terrestre\\n', 'terrible\\n', 'terriblemente\\n', 'territorio\\n', 'terror\\n', 'tertulia\\n', 'tesis\\n', 'tesoro\\n', 'testigo\\n', 'testimonio\\n', 'texto\\n', 'ti\\n', 'tía\\n', 'tibio\\n', 'tiempo\\n', 'tienda\\n', 'tierno\\n', 'tierra\\n', 'tigre\\n', 'timbre\\n', 'timidez\\n', 'tímido\\n', 'tinta\\n', 'tinte\\n', 'tío\\n', 'típico\\n', 'tipo\\n', 'tira\\n', 'tirar\\n', 'tiro\\n', 'titular\\n', 'titular\\n', 'título\\n', 'toalla\\n', 'tocar\\n', 'todavía\\n', 'todo\\n', 'tolerancia\\n', 'tolerar\\n', 'tomar\\n', 'tomate\\n', 'tonelada\\n', 'tono\\n', 'tontería\\n', 'tonto\\n', 'topar\\n', 'toque\\n', 'torcer\\n', 'tormenta\\n', 'tornar\\n', 'torno\\n', 'toro\\n', 'torpe\\n', 'torre\\n', 'torta\\n', 'tortura\\n', 'total\\n', 'total\\n', 'totalidad\\n', 'totalmente\\n', 'trabajador\\n', 'trabajador\\n', 'trabajar\\n', 'trabajo\\n', 'tradición\\n', 'tradicional\\n', 'tradicionalmente\\n', 'traducción\\n', 'traducir\\n', 'traer\\n', 'tráfico\\n', 'tragar\\n', 'tragedia\\n', 'trágico\\n', 'trago\\n', 'traición\\n', 'traicionar\\n', 'traidor\\n', 'traje\\n', 'trama\\n', 'trámite\\n', 'tramo\\n', 'trampa\\n', 'trance\\n', 'tranquilamente\\n', 'tranquilidad\\n', 'tranquilizar\\n', 'tranquilo\\n', 'transcurrir\\n', 'transcurso\\n', 'transformación\\n', 'transformar\\n', 'transición\\n', 'transitar\\n', 'tránsito\\n', 'transitorio\\n', 'transmisión\\n', 'transmitir\\n', 'transparencia\\n', 'transparente\\n', 'transportar\\n', 'transporte\\n', 'tranvía\\n', 'trapo\\n', 'tras\\n', 'trascendencia\\n', 'trascendental\\n', 'trascendente\\n', 'trasero\\n', 'trasladar\\n', 'traslado\\n', 'traspasar\\n', 'trastorno\\n', 'tratado\\n', 'tratamiento\\n', 'tratar\\n', 'trato\\n', 'través\\n', 'trayecto\\n', 'trayectoria\\n', 'trazar\\n', 'trazo\\n', 'trece\\n', 'tregua\\n', 'treinta\\n', 'tremendo\\n', 'tren\\n', 'trepar\\n', 'tres\\n', 'trescientos\\n', 'triángulo\\n', 'tribu\\n', 'tribunal\\n', 'trigo\\n', 'triple\\n', 'triste\\n', 'tristeza\\n', 'triunfar\\n', 'triunfo\\n', 'tronco\\n', 'trono\\n', 'tropa\\n', 'tropezar\\n', 'tropical\\n', 'trozo\\n', 'truco\\n', 'tu\\n', 'tú\\n', 'tubo\\n', 'tumba\\n', 'tumbar\\n', 'túnel\\n', 'turco\\n', 'turismo\\n', 'turista\\n', 'turístico\\n', 'turno\\n', 'tuyo\\n', 'ubicación\\n', 'ubicar\\n', 'últimamente\\n', 'último\\n', 'umbral\\n', 'un\\n', 'uña\\n', 'únicamente\\n', 'único\\n', 'unidad\\n', 'unido\\n', 'uniforme\\n', 'uniforme\\n', 'unión\\n', 'unir\\n', 'universal\\n', 'universidad\\n', 'universitario\\n', 'universo\\n', 'uno\\n', 'urbano\\n', 'urgencia\\n', 'urgente\\n', 'usado\\n', 'usar\\n', 'uso\\n', 'usted\\n', 'usual\\n', 'útil\\n', 'utilidad\\n', 'utilización\\n', 'utilizar\\n', 'uva\\n', 'vaca\\n', 'vacaciones\\n', 'vaciar\\n', 'vacilar\\n', 'vacío\\n', 'vacío\\n', 'vago\\n', 'vaivén\\n', 'valer\\n', 'validez\\n', 'válido\\n', 'valiente\\n', 'valioso\\n', 'valle\\n', 'valor\\n', 'valorar\\n', 'vanguardia\\n', 'vanidad\\n', 'vano\\n', 'vapor\\n', 'vara\\n', 'variación\\n', 'variado\\n', 'variante\\n', 'variar\\n', 'variedad\\n', 'varios\\n', 'varón\\n', 'vasco\\n', 'vaso\\n', 'vasto\\n', 'vecindad\\n', 'vecino\\n', 'vecino\\n', 'vegetación\\n', 'vegetal\\n', 'vegetal\\n', 'vehículo\\n', 'veinte\\n', 'veinticinco\\n', 'veinticuatro\\n', 'veintidós\\n', 'vejez\\n', 'vela\\n', 'velar\\n', 'velo\\n', 'velocidad\\n', 'veloz\\n', 'vena\\n', 'vencer\\n', 'vendedor\\n', 'vender\\n', 'veneno\\n', 'venganza\\n', 'vengar\\n', 'venir\\n', 'venta\\n', 'ventaja\\n', 'ventana\\n', 'ventanilla\\n', 'ver\\n', 'vera\\n', 'verano\\n', 'verbal\\n', 'verbo\\n', 'verdad\\n', 'verdaderamente\\n', 'verdadero\\n', 'verde\\n', 'verdura\\n', 'vereda\\n', 'vergüenza\\n', 'verificar\\n', 'versión\\n', 'verso\\n', 'verter\\n', 'vertical\\n', 'vertiginoso\\n', 'vestido\\n', 'vestido\\n', 'vestir\\n', 'vestuario\\n', 'vez\\n', 'vía\\n', 'viajar\\n', 'viaje\\n', 'viajero\\n', 'vibración\\n', 'vibrar\\n', 'viceversa\\n', 'vicio\\n', 'víctima\\n', 'victoria\\n', 'vida\\n', 'vidrio\\n', 'viejo\\n', 'viento\\n', 'vientre\\n', 'viernes\\n', 'vigente\\n', 'vigilancia\\n', 'vigilar\\n', 'vigor\\n', 'vigoroso\\n', 'villa\\n', 'vinculado\\n', 'vincular\\n', 'vínculo\\n', 'vino\\n', 'violación\\n', 'violar\\n', 'violencia\\n', 'violentamente\\n', 'violento\\n', 'violín\\n', 'virgen\\n', 'virgen\\n', 'virtud\\n', 'visible\\n', 'visión\\n', 'visita\\n', 'visitante\\n', 'visitar\\n', 'vislumbrar\\n', 'víspera\\n', 'vista\\n', 'visual\\n', 'vital\\n', 'vitalidad\\n', 'viuda\\n', 'vivienda\\n', 'vivir\\n', 'vivo\\n', 'vocabulario\\n', 'vocación\\n', 'volante\\n', 'volar\\n', 'volcán\\n', 'volcar\\n', 'volumen\\n', 'voluntad\\n', 'voluntariamente\\n', 'voluntario\\n', 'volver\\n', 'vos\\n', 'vosotros\\n', 'votar\\n', 'voto\\n', 'voz\\n', 'vuelo\\n', 'vuelta\\n', 'vuestro\\n', 'vulgar\\n', 'vulnerable\\n', 'whisky\\n', 'y\\n', 'ya\\n', 'yo\\n', 'zapato\\n', 'zona']\n"
     ]
    }
   ],
   "source": [
    "'''with open(spn_5k_file, encoding = 'cp1252').readlines() as spn5k, \\\n",
    "    open(eng_5k_file).readlines() as eng5k:\n",
    "    print(set(spn5k) & set(eng5k))'''"
   ]
  },
  {
   "cell_type": "code",
   "execution_count": null,
   "metadata": {},
   "outputs": [],
   "source": []
  }
 ],
 "metadata": {
  "kernelspec": {
   "display_name": "Python 3",
   "language": "python",
   "name": "python3"
  },
  "language_info": {
   "codemirror_mode": {
    "name": "ipython",
    "version": 3
   },
   "file_extension": ".py",
   "mimetype": "text/x-python",
   "name": "python",
   "nbconvert_exporter": "python",
   "pygments_lexer": "ipython3",
   "version": "3.6.5"
  }
 },
 "nbformat": 4,
 "nbformat_minor": 2
}
